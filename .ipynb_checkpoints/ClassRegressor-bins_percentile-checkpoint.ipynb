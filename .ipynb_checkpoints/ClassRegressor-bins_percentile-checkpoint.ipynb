{
 "cells": [
  {
   "cell_type": "code",
   "execution_count": 144,
   "id": "831b3e2d",
   "metadata": {},
   "outputs": [
    {
     "name": "stdout",
     "output_type": "stream",
     "text": [
      "The autoreload extension is already loaded. To reload it, use:\n",
      "  %reload_ext autoreload\n"
     ]
    }
   ],
   "source": [
    "%load_ext autoreload\n",
    "\n",
    "%autoreload 2"
   ]
  },
  {
   "cell_type": "code",
   "execution_count": 145,
   "id": "013a8657",
   "metadata": {},
   "outputs": [],
   "source": [
    " %reload_ext autoreload"
   ]
  },
  {
   "cell_type": "code",
   "execution_count": 146,
   "id": "a6596bc3",
   "metadata": {},
   "outputs": [],
   "source": [
    "import numpy as np\n",
    "import pandas as pd\n",
    "\n",
    "from sklearn.model_selection import train_test_split\n",
    "from sklearn.metrics import mean_absolute_error\n",
    "from sklearn.preprocessing import StandardScaler\n",
    "from sklearn.linear_model import LinearRegression\n",
    "from sklearn.dummy import DummyRegressor\n",
    "\n",
    "from lightgbm import LGBMRegressor\n",
    "\n",
    "import warnings\n",
    "warnings.filterwarnings(\"ignore\")"
   ]
  },
  {
   "cell_type": "code",
   "execution_count": 147,
   "id": "d3fb6cfb",
   "metadata": {},
   "outputs": [],
   "source": [
    "from src.reg_classifier import *"
   ]
  },
  {
   "cell_type": "code",
   "execution_count": 148,
   "id": "a17779cb",
   "metadata": {},
   "outputs": [],
   "source": [
    "df = pd.read_csv('./data/AB_NYC_2019_EDA.csv').drop(['Unnamed: 0'], axis=1)\n",
    "\n",
    "target_name = 'price'"
   ]
  },
  {
   "cell_type": "code",
   "execution_count": 149,
   "id": "25343ae5",
   "metadata": {},
   "outputs": [],
   "source": [
    "X, y = df.drop(columns=[target_name]), df[target_name]\n",
    "\n",
    "X_train, X_test, y_train, y_test = train_test_split(X, y, test_size=0.3, random_state=42)\n",
    "\n",
    "scaler = StandardScaler()\n",
    "X_train_scaled = pd.DataFrame(scaler.fit_transform(X_train), columns=X_train.columns)\n",
    "X_test_scaled = pd.DataFrame(scaler.transform(X_test), columns=X_test.columns)"
   ]
  },
  {
   "cell_type": "markdown",
   "id": "9ac51652",
   "metadata": {},
   "source": [
    "# Test ClassRegressor"
   ]
  },
  {
   "cell_type": "code",
   "execution_count": 150,
   "id": "13f4444e",
   "metadata": {},
   "outputs": [
    {
     "data": {
      "text/html": [
       "<div>\n",
       "<style scoped>\n",
       "    .dataframe tbody tr th:only-of-type {\n",
       "        vertical-align: middle;\n",
       "    }\n",
       "\n",
       "    .dataframe tbody tr th {\n",
       "        vertical-align: top;\n",
       "    }\n",
       "\n",
       "    .dataframe thead th {\n",
       "        text-align: right;\n",
       "    }\n",
       "</style>\n",
       "<table border=\"1\" class=\"dataframe\">\n",
       "  <thead>\n",
       "    <tr style=\"text-align: right;\">\n",
       "      <th></th>\n",
       "      <th>neighbourhood</th>\n",
       "      <th>price</th>\n",
       "      <th>availability_365</th>\n",
       "      <th>n-hood_group_Brooklyn</th>\n",
       "      <th>n-hood_group_Manhattan</th>\n",
       "      <th>n-hood_group_Queens</th>\n",
       "      <th>n-hood_group_Staten Island</th>\n",
       "      <th>room_type_Private room</th>\n",
       "      <th>room_type_Shared room</th>\n",
       "      <th>Manh_dist</th>\n",
       "      <th>Broo_dist</th>\n",
       "      <th>log_minimum_nights</th>\n",
       "      <th>log_number_of_reviews</th>\n",
       "      <th>log_reviews_per_month</th>\n",
       "      <th>log_calculated_host_listings_count</th>\n",
       "    </tr>\n",
       "  </thead>\n",
       "  <tbody>\n",
       "    <tr>\n",
       "      <th>0</th>\n",
       "      <td>92.669640</td>\n",
       "      <td>149</td>\n",
       "      <td>365</td>\n",
       "      <td>1</td>\n",
       "      <td>0</td>\n",
       "      <td>0</td>\n",
       "      <td>0</td>\n",
       "      <td>1</td>\n",
       "      <td>0</td>\n",
       "      <td>0.133675</td>\n",
       "      <td>0.025206</td>\n",
       "      <td>0.693147</td>\n",
       "      <td>2.302585</td>\n",
       "      <td>-1.560648</td>\n",
       "      <td>1.791759</td>\n",
       "    </tr>\n",
       "    <tr>\n",
       "      <th>1</th>\n",
       "      <td>252.614598</td>\n",
       "      <td>225</td>\n",
       "      <td>355</td>\n",
       "      <td>0</td>\n",
       "      <td>1</td>\n",
       "      <td>0</td>\n",
       "      <td>0</td>\n",
       "      <td>0</td>\n",
       "      <td>0</td>\n",
       "      <td>0.032827</td>\n",
       "      <td>0.108917</td>\n",
       "      <td>0.693147</td>\n",
       "      <td>3.828641</td>\n",
       "      <td>-0.967584</td>\n",
       "      <td>0.693147</td>\n",
       "    </tr>\n",
       "    <tr>\n",
       "      <th>2</th>\n",
       "      <td>109.915169</td>\n",
       "      <td>150</td>\n",
       "      <td>365</td>\n",
       "      <td>0</td>\n",
       "      <td>1</td>\n",
       "      <td>0</td>\n",
       "      <td>0</td>\n",
       "      <td>1</td>\n",
       "      <td>0</td>\n",
       "      <td>0.036737</td>\n",
       "      <td>0.158162</td>\n",
       "      <td>1.386294</td>\n",
       "      <td>0.000000</td>\n",
       "      <td>-0.328504</td>\n",
       "      <td>0.000000</td>\n",
       "    </tr>\n",
       "    <tr>\n",
       "      <th>3</th>\n",
       "      <td>140.791735</td>\n",
       "      <td>89</td>\n",
       "      <td>194</td>\n",
       "      <td>1</td>\n",
       "      <td>0</td>\n",
       "      <td>0</td>\n",
       "      <td>0</td>\n",
       "      <td>0</td>\n",
       "      <td>0</td>\n",
       "      <td>0.096037</td>\n",
       "      <td>0.036351</td>\n",
       "      <td>0.693147</td>\n",
       "      <td>5.602119</td>\n",
       "      <td>1.534714</td>\n",
       "      <td>0.000000</td>\n",
       "    </tr>\n",
       "    <tr>\n",
       "      <th>4</th>\n",
       "      <td>121.010757</td>\n",
       "      <td>80</td>\n",
       "      <td>0</td>\n",
       "      <td>0</td>\n",
       "      <td>1</td>\n",
       "      <td>0</td>\n",
       "      <td>0</td>\n",
       "      <td>0</td>\n",
       "      <td>0</td>\n",
       "      <td>0.027858</td>\n",
       "      <td>0.147596</td>\n",
       "      <td>2.397895</td>\n",
       "      <td>2.302585</td>\n",
       "      <td>-2.302585</td>\n",
       "      <td>0.000000</td>\n",
       "    </tr>\n",
       "  </tbody>\n",
       "</table>\n",
       "</div>"
      ],
      "text/plain": [
       "   neighbourhood  price  availability_365  n-hood_group_Brooklyn  \\\n",
       "0      92.669640    149               365                      1   \n",
       "1     252.614598    225               355                      0   \n",
       "2     109.915169    150               365                      0   \n",
       "3     140.791735     89               194                      1   \n",
       "4     121.010757     80                 0                      0   \n",
       "\n",
       "   n-hood_group_Manhattan  n-hood_group_Queens  n-hood_group_Staten Island  \\\n",
       "0                       0                    0                           0   \n",
       "1                       1                    0                           0   \n",
       "2                       1                    0                           0   \n",
       "3                       0                    0                           0   \n",
       "4                       1                    0                           0   \n",
       "\n",
       "   room_type_Private room  room_type_Shared room  Manh_dist  Broo_dist  \\\n",
       "0                       1                      0   0.133675   0.025206   \n",
       "1                       0                      0   0.032827   0.108917   \n",
       "2                       1                      0   0.036737   0.158162   \n",
       "3                       0                      0   0.096037   0.036351   \n",
       "4                       0                      0   0.027858   0.147596   \n",
       "\n",
       "   log_minimum_nights  log_number_of_reviews  log_reviews_per_month  \\\n",
       "0            0.693147               2.302585              -1.560648   \n",
       "1            0.693147               3.828641              -0.967584   \n",
       "2            1.386294               0.000000              -0.328504   \n",
       "3            0.693147               5.602119               1.534714   \n",
       "4            2.397895               2.302585              -2.302585   \n",
       "\n",
       "   log_calculated_host_listings_count  \n",
       "0                            1.791759  \n",
       "1                            0.693147  \n",
       "2                            0.000000  \n",
       "3                            0.000000  \n",
       "4                            0.000000  "
      ]
     },
     "execution_count": 150,
     "metadata": {},
     "output_type": "execute_result"
    }
   ],
   "source": [
    "df.head()"
   ]
  },
  {
   "cell_type": "code",
   "execution_count": 151,
   "id": "69baef2c",
   "metadata": {},
   "outputs": [
    {
     "data": {
      "text/plain": [
       "<AxesSubplot:>"
      ]
     },
     "execution_count": 151,
     "metadata": {},
     "output_type": "execute_result"
    },
    {
     "data": {
      "image/png": "[encoded data removed]",
      "text/plain": [
       "<Figure size 432x288 with 1 Axes>"
      ]
     },
     "metadata": {
      "needs_background": "light"
     },
     "output_type": "display_data"
    }
   ],
   "source": [
    "y.hist()"
   ]
  },
  {
   "cell_type": "code",
   "execution_count": 152,
   "id": "581c2ca0",
   "metadata": {},
   "outputs": [
    {
     "data": {
      "text/plain": [
       "count    48410.000000\n",
       "mean       137.575170\n",
       "std        103.780081\n",
       "min         10.000000\n",
       "25%         69.000000\n",
       "50%        105.000000\n",
       "75%        175.000000\n",
       "max        799.000000\n",
       "Name: price, dtype: float64"
      ]
     },
     "execution_count": 152,
     "metadata": {},
     "output_type": "execute_result"
    }
   ],
   "source": [
    "df[target_name].describe()"
   ]
  },
  {
   "cell_type": "code",
   "execution_count": 153,
   "id": "80704904",
   "metadata": {},
   "outputs": [],
   "source": [
    "clf = ClassRegressor(n_bins=2)"
   ]
  },
  {
   "cell_type": "code",
   "execution_count": 154,
   "id": "2fe55268",
   "metadata": {},
   "outputs": [
    {
     "data": {
      "text/plain": [
       "<src.reg_classifier.ClassRegressor at 0x1fe90658940>"
      ]
     },
     "execution_count": 154,
     "metadata": {},
     "output_type": "execute_result"
    }
   ],
   "source": [
    "clf.fit(X, y)"
   ]
  },
  {
   "cell_type": "code",
   "execution_count": 155,
   "id": "afc5d23e",
   "metadata": {},
   "outputs": [
    {
     "data": {
      "text/plain": [
       "{0: [10.0, 404.5], 1: [404.5, 799.0]}"
      ]
     },
     "execution_count": 155,
     "metadata": {},
     "output_type": "execute_result"
    }
   ],
   "source": [
    "clf.bin_borders"
   ]
  },
  {
   "cell_type": "code",
   "execution_count": 156,
   "id": "ccbd26e2",
   "metadata": {},
   "outputs": [
    {
     "data": {
      "text/plain": [
       "array([0, 0, 0, ..., 0, 0, 0], dtype=int64)"
      ]
     },
     "execution_count": 156,
     "metadata": {},
     "output_type": "execute_result"
    }
   ],
   "source": [
    "clf.y_classes"
   ]
  },
  {
   "cell_type": "code",
   "execution_count": 157,
   "id": "e58bc4bd",
   "metadata": {},
   "outputs": [
    {
     "data": {
      "text/plain": [
       "0    47126\n",
       "1     1284\n",
       "dtype: int64"
      ]
     },
     "execution_count": 157,
     "metadata": {},
     "output_type": "execute_result"
    }
   ],
   "source": [
    "pd.Series(clf.y_classes).value_counts()"
   ]
  },
  {
   "cell_type": "code",
   "execution_count": 158,
   "id": "03ade83e",
   "metadata": {},
   "outputs": [
    {
     "data": {
      "text/plain": [
       "count    1284.000000\n",
       "mean      545.380062\n",
       "std       103.736305\n",
       "min       407.000000\n",
       "25%       452.750000\n",
       "50%       500.000000\n",
       "75%       600.000000\n",
       "max       799.000000\n",
       "Name: price, dtype: float64"
      ]
     },
     "execution_count": 158,
     "metadata": {},
     "output_type": "execute_result"
    }
   ],
   "source": [
    "df[target_name][clf.y_classes.astype(bool)].describe()"
   ]
  },
  {
   "cell_type": "code",
   "execution_count": 159,
   "id": "0534e657",
   "metadata": {},
   "outputs": [
    {
     "data": {
      "text/plain": [
       "count    47126.000000\n",
       "mean       126.464075\n",
       "std         78.205286\n",
       "min         10.000000\n",
       "25%         67.000000\n",
       "50%        100.000000\n",
       "75%        165.000000\n",
       "max        404.000000\n",
       "Name: price, dtype: float64"
      ]
     },
     "execution_count": 159,
     "metadata": {},
     "output_type": "execute_result"
    }
   ],
   "source": [
    "df[target_name][~clf.y_classes.astype(bool)].describe()"
   ]
  },
  {
   "cell_type": "code",
   "execution_count": 160,
   "id": "858b1c2b",
   "metadata": {},
   "outputs": [
    {
     "data": {
      "text/plain": [
       "array([0], dtype=int64)"
      ]
     },
     "execution_count": 160,
     "metadata": {},
     "output_type": "execute_result"
    }
   ],
   "source": [
    "clf.predict(X.values[0:1])"
   ]
  },
  {
   "cell_type": "code",
   "execution_count": 161,
   "id": "1009b262",
   "metadata": {},
   "outputs": [
    {
     "data": {
      "text/plain": [
       "array([207.25])"
      ]
     },
     "execution_count": 161,
     "metadata": {},
     "output_type": "execute_result"
    }
   ],
   "source": [
    "clf.predict(X.values[0:1], regression=True)"
   ]
  },
  {
   "cell_type": "code",
   "execution_count": 162,
   "id": "10498e8b",
   "metadata": {},
   "outputs": [
    {
     "data": {
      "text/plain": [
       "0    48400\n",
       "1       10\n",
       "dtype: int64"
      ]
     },
     "execution_count": 162,
     "metadata": {},
     "output_type": "execute_result"
    }
   ],
   "source": [
    "pd.Series(clf.predict(X)).value_counts()"
   ]
  },
  {
   "cell_type": "code",
   "execution_count": 163,
   "id": "7aae2860",
   "metadata": {},
   "outputs": [
    {
     "data": {
      "text/plain": [
       "207.25    48400\n",
       "601.75       10\n",
       "dtype: int64"
      ]
     },
     "execution_count": 163,
     "metadata": {},
     "output_type": "execute_result"
    }
   ],
   "source": [
    "pd.Series(clf.predict(X, regression=True)).value_counts()"
   ]
  },
  {
   "cell_type": "code",
   "execution_count": 164,
   "id": "d95e5a80",
   "metadata": {},
   "outputs": [
    {
     "data": {
      "text/plain": [
       "{0: [10.0, 105.0], 1: [105.0, 799.0]}"
      ]
     },
     "execution_count": 164,
     "metadata": {},
     "output_type": "execute_result"
    }
   ],
   "source": [
    "clf_perc = ClassRegressor(n_bins=2, bins_calc_method='percentile')\n",
    "clf_perc.fit(X, y)\n",
    "\n",
    "clf_perc.bin_borders"
   ]
  },
  {
   "cell_type": "code",
   "execution_count": 165,
   "id": "ee0ff145",
   "metadata": {},
   "outputs": [
    {
     "data": {
      "text/plain": [
       "0    24426\n",
       "1    23984\n",
       "dtype: int64"
      ]
     },
     "execution_count": 165,
     "metadata": {},
     "output_type": "execute_result"
    }
   ],
   "source": [
    "pd.Series(clf_perc.y_classes).value_counts()"
   ]
  },
  {
   "cell_type": "code",
   "execution_count": 166,
   "id": "2d709b3e",
   "metadata": {},
   "outputs": [
    {
     "data": {
      "text/plain": [
       "452.0    25010\n",
       "57.5     23400\n",
       "dtype: int64"
      ]
     },
     "execution_count": 166,
     "metadata": {},
     "output_type": "execute_result"
    }
   ],
   "source": [
    "pd.Series(clf_perc.predict(X, regression=True)).value_counts()"
   ]
  },
  {
   "cell_type": "code",
   "execution_count": 167,
   "id": "7925f26f",
   "metadata": {},
   "outputs": [
    {
     "name": "stdout",
     "output_type": "stream",
     "text": [
      "Class regressor\n",
      "train mae 59.35382004898634\n",
      "test mae 58.78675893410453\n"
     ]
    }
   ],
   "source": [
    "clf = ClassRegressor(n_bins=5)\n",
    "clf.fit(X_train_scaled, y_train)\n",
    "\n",
    "pred_train = clf.predict(X_train_scaled, regression=True)\n",
    "pred_test = clf.predict(X_test_scaled, regression=True)\n",
    "\n",
    "print('Class regressor')\n",
    "print('train mae', mean_absolute_error(y_train, pred_train))\n",
    "print('test mae', mean_absolute_error(y_test, pred_test))"
   ]
  },
  {
   "cell_type": "code",
   "execution_count": 168,
   "id": "ff502575",
   "metadata": {},
   "outputs": [
    {
     "name": "stdout",
     "output_type": "stream",
     "text": [
      "Class regressor ()\n",
      "train mae 91.81907516156639\n",
      "test mae 92.08366040074365\n"
     ]
    }
   ],
   "source": [
    "clf_perc = ClassRegressor(n_bins=5, bins_calc_method='percentile')\n",
    "clf_perc.fit(X_train_scaled, y_train)\n",
    "\n",
    "pred_train = clf_perc.predict(X_train_scaled, regression=True)\n",
    "pred_test = clf_perc.predict(X_test_scaled, regression=True)\n",
    "\n",
    "print('Class regressor ()')\n",
    "print('train mae', mean_absolute_error(y_train, pred_train))\n",
    "print('test mae', mean_absolute_error(y_test, pred_test))"
   ]
  },
  {
   "cell_type": "code",
   "execution_count": 169,
   "id": "6118c37f",
   "metadata": {},
   "outputs": [
    {
     "data": {
      "text/plain": [
       "<AxesSubplot:>"
      ]
     },
     "execution_count": 169,
     "metadata": {},
     "output_type": "execute_result"
    },
    {
     "data": {
      "image/png": "[encoded data removed]",
      "text/plain": [
       "<Figure size 432x288 with 1 Axes>"
      ]
     },
     "metadata": {
      "needs_background": "light"
     },
     "output_type": "display_data"
    }
   ],
   "source": [
    "pd.Series(pred_train).hist()"
   ]
  },
  {
   "cell_type": "code",
   "execution_count": 170,
   "id": "d4ffd9bd",
   "metadata": {},
   "outputs": [
    {
     "name": "stdout",
     "output_type": "stream",
     "text": [
      "Dummy regressor\n",
      "train mae 73.40003703765083\n",
      "test mae 73.39060713427676\n"
     ]
    }
   ],
   "source": [
    "dummy_regr = DummyRegressor(strategy=\"mean\")\n",
    "dummy_regr.fit(X_train_scaled, y_train)\n",
    "\n",
    "\n",
    "pred_train = dummy_regr.predict(X_train_scaled)\n",
    "pred_test = dummy_regr.predict(X_test_scaled)\n",
    "\n",
    "print('Dummy regressor')\n",
    "print('train mae', mean_absolute_error(y_train, pred_train))\n",
    "print('test mae', mean_absolute_error(y_test, pred_test))"
   ]
  },
  {
   "cell_type": "markdown",
   "id": "852b93f9",
   "metadata": {},
   "source": [
    "# Test ClassRegressorEnsemble"
   ]
  },
  {
   "cell_type": "code",
   "execution_count": 171,
   "id": "92b7de05",
   "metadata": {},
   "outputs": [],
   "source": [
    "N_BINS = 2\n",
    "N_LEVELS = 3\n",
    "\n",
    "class_reg = ClassRegressorEnsemble(n_bins=N_BINS, n_levels=N_LEVELS)\n",
    "\n",
    "class_reg.fit(X_train_scaled, y_train)"
   ]
  },
  {
   "cell_type": "code",
   "execution_count": 172,
   "id": "4ca74bd6",
   "metadata": {},
   "outputs": [
    {
     "data": {
      "text/plain": [
       "{(0, (0,)): <src.reg_classifier.ClassRegressor at 0x1fe9067ffa0>,\n",
       " (1, (0, 0)): <src.reg_classifier.ClassRegressor at 0x1fe9362d670>,\n",
       " (2, (0, 0, 0)): <src.reg_classifier.ClassRegressor at 0x1fe9199b3a0>,\n",
       " (2, (0, 0, 1)): <src.reg_classifier.ClassRegressor at 0x1fe916c19a0>,\n",
       " (1, (0, 1)): <src.reg_classifier.ClassRegressor at 0x1fe916d7310>,\n",
       " (2, (0, 1, 0)): <src.reg_classifier.ClassRegressor at 0x1fe90343ee0>,\n",
       " (2, (0, 1, 1)): <src.reg_classifier.ClassRegressor at 0x1fe906511f0>}"
      ]
     },
     "execution_count": 172,
     "metadata": {},
     "output_type": "execute_result"
    }
   ],
   "source": [
    "class_reg.models"
   ]
  },
  {
   "cell_type": "code",
   "execution_count": 173,
   "id": "629074c0",
   "metadata": {},
   "outputs": [
    {
     "data": {
      "text/plain": [
       "{0: [9.9999999999, 404.5], 1: [404.4999999999, 799.0]}"
      ]
     },
     "execution_count": 173,
     "metadata": {},
     "output_type": "execute_result"
    }
   ],
   "source": [
    "class_reg.models[(0, (0,))].bin_borders"
   ]
  },
  {
   "cell_type": "code",
   "execution_count": 174,
   "id": "1f47263b",
   "metadata": {},
   "outputs": [
    {
     "data": {
      "text/plain": [
       "{0: [9.9999999999, 207.0], 1: [206.9999999999, 404.0]}"
      ]
     },
     "execution_count": 174,
     "metadata": {},
     "output_type": "execute_result"
    }
   ],
   "source": [
    "class_reg.models[(1, (0, 0))].bin_borders"
   ]
  },
  {
   "cell_type": "code",
   "execution_count": 175,
   "id": "76362c84",
   "metadata": {},
   "outputs": [
    {
     "data": {
      "text/plain": [
       "{0: [406.9999999999, 603.0], 1: [602.9999999999, 799.0]}"
      ]
     },
     "execution_count": 175,
     "metadata": {},
     "output_type": "execute_result"
    }
   ],
   "source": [
    "class_reg.models[(1, (0, 1))].bin_borders"
   ]
  },
  {
   "cell_type": "code",
   "execution_count": 176,
   "id": "cc895148",
   "metadata": {},
   "outputs": [
    {
     "data": {
      "text/plain": [
       "(neighbourhood                         2.390667\n",
       " availability_365                      0.804064\n",
       " n-hood_group_Brooklyn                -0.834955\n",
       " n-hood_group_Manhattan                1.123723\n",
       " n-hood_group_Queens                  -0.364281\n",
       " n-hood_group_Staten Island           -0.088610\n",
       " room_type_Private room               -0.925042\n",
       " room_type_Shared room                -0.156487\n",
       " Manh_dist                            -1.076243\n",
       " Broo_dist                             0.198089\n",
       " log_minimum_nights                    0.128277\n",
       " log_number_of_reviews                -0.838499\n",
       " log_reviews_per_month                -0.036852\n",
       " log_calculated_host_listings_count    1.449238\n",
       " Name: 0, dtype: float64,\n",
       " 419)"
      ]
     },
     "execution_count": 176,
     "metadata": {},
     "output_type": "execute_result"
    }
   ],
   "source": [
    "X_train_scaled.iloc[0], y_train.iloc[0]"
   ]
  },
  {
   "cell_type": "code",
   "execution_count": 177,
   "id": "b45efd44",
   "metadata": {},
   "outputs": [
    {
     "data": {
      "text/plain": [
       "array([0], dtype=int64)"
      ]
     },
     "execution_count": 177,
     "metadata": {},
     "output_type": "execute_result"
    }
   ],
   "source": [
    "class_reg.models[(0, (0,))].predict(X_train_scaled.iloc[:1])"
   ]
  },
  {
   "cell_type": "code",
   "execution_count": 178,
   "id": "5263776f",
   "metadata": {},
   "outputs": [
    {
     "data": {
      "text/plain": [
       "array([256.25])"
      ]
     },
     "execution_count": 178,
     "metadata": {},
     "output_type": "execute_result"
    }
   ],
   "source": [
    "class_reg.predict(X_train_scaled.iloc[:1])"
   ]
  },
  {
   "cell_type": "code",
   "execution_count": 179,
   "id": "7513398a",
   "metadata": {},
   "outputs": [],
   "source": [
    "pred_test = class_reg.predict(X_test_scaled)"
   ]
  },
  {
   "cell_type": "code",
   "execution_count": 180,
   "id": "9c15920e",
   "metadata": {},
   "outputs": [
    {
     "data": {
      "text/plain": [
       "59.25     7394\n",
       "157.75    6246\n",
       "256.25     877\n",
       "455.25       6\n",
       "dtype: int64"
      ]
     },
     "execution_count": 180,
     "metadata": {},
     "output_type": "execute_result"
    }
   ],
   "source": [
    "pd.Series(pred_test).value_counts()"
   ]
  },
  {
   "cell_type": "code",
   "execution_count": 181,
   "id": "e2635da1",
   "metadata": {},
   "outputs": [
    {
     "name": "stdout",
     "output_type": "stream",
     "text": [
      "Simple ClassRegressor ensemble\n",
      "train mae 51.34710213356925\n",
      "test mae 51.81889072506428\n"
     ]
    }
   ],
   "source": [
    "class_reg = ClassRegressorEnsemble(n_bins=N_BINS, n_levels=N_LEVELS)\n",
    "class_reg.fit(X_train_scaled, y_train)\n",
    "\n",
    "pred_train = class_reg.predict(X_train_scaled)\n",
    "pred_test = class_reg.predict(X_test_scaled)\n",
    "\n",
    "print('Simple ClassRegressor ensemble')\n",
    "print('train mae', mean_absolute_error(y_train, pred_train))\n",
    "print('test mae', mean_absolute_error(y_test, pred_test))"
   ]
  },
  {
   "cell_type": "code",
   "execution_count": 182,
   "id": "0cdb41c4",
   "metadata": {},
   "outputs": [
    {
     "name": "stdout",
     "output_type": "stream",
     "text": [
      "Simple ClassRegressor ensemble\n",
      "train mae 57.47815724585235\n",
      "test mae 57.82578415851053\n"
     ]
    }
   ],
   "source": [
    "class_reg = ClassRegressorEnsemble(n_bins=N_BINS, n_levels=N_LEVELS, \n",
    "                                               bins_calc_method='percentile', leaf_size=10, \n",
    "                                               leaf_model=LinearRegression)\n",
    "class_reg.fit(X_train_scaled, y_train)\n",
    "\n",
    "pred_train = class_reg.predict(X_train_scaled)\n",
    "pred_test = class_reg.predict(X_test_scaled)\n",
    "\n",
    "print('Simple ClassRegressor ensemble')\n",
    "print('train mae', mean_absolute_error(y_train, pred_train))\n",
    "print('test mae', mean_absolute_error(y_test, pred_test))"
   ]
  },
  {
   "cell_type": "markdown",
   "id": "f6f78a1f",
   "metadata": {},
   "source": [
    "# Test large ClassRegressorEnsembleLog"
   ]
  },
  {
   "cell_type": "code",
   "execution_count": 183,
   "id": "3579aa06",
   "metadata": {},
   "outputs": [
    {
     "name": "stdout",
     "output_type": "stream",
     "text": [
      "Simple ClassRegressor ensemble with logarithmic target\n",
      "train mae 51.34710213356925\n",
      "test mae 51.81889072506428\n"
     ]
    }
   ],
   "source": [
    "class_reg = ClassRegressorEnsembleLog(n_bins=N_BINS, n_levels=N_LEVELS)\n",
    "class_reg.fit(X_train_scaled, y_train)\n",
    "\n",
    "pred_train = class_reg.predict(X_train_scaled)\n",
    "pred_test = class_reg.predict(X_test_scaled)\n",
    "\n",
    "print('Simple ClassRegressor ensemble with logarithmic target')\n",
    "print('train mae', mean_absolute_error(y_train, pred_train))\n",
    "print('test mae', mean_absolute_error(y_test, pred_test))"
   ]
  },
  {
   "cell_type": "code",
   "execution_count": 184,
   "id": "cb1d571c",
   "metadata": {},
   "outputs": [
    {
     "name": "stdout",
     "output_type": "stream",
     "text": [
      "Simple ClassRegressor ensemble with balanced bins, LinearRegression and logarithmic target\n",
      "train mae 57.47815724585235\n",
      "test mae 57.82578415851053\n"
     ]
    }
   ],
   "source": [
    "class_reg = ClassRegressorEnsembleLog(n_bins=N_BINS, n_levels=N_LEVELS, \n",
    "                                               bins_calc_method='percentile', leaf_size=10, \n",
    "                                               leaf_model=LinearRegression)\n",
    "class_reg.fit(X_train_scaled, y_train)\n",
    "\n",
    "pred_train = class_reg.predict(X_train_scaled)\n",
    "pred_test = class_reg.predict(X_test_scaled)\n",
    "\n",
    "print('Simple ClassRegressor ensemble with balanced bins, LinearRegression and logarithmic target')\n",
    "print('train mae', mean_absolute_error(y_train, pred_train))\n",
    "print('test mae', mean_absolute_error(y_test, pred_test))"
   ]
  },
  {
   "cell_type": "markdown",
   "id": "1e9de6d6",
   "metadata": {},
   "source": [
    "# Test large ClassRegressorEnsemble"
   ]
  },
  {
   "cell_type": "code",
   "execution_count": 185,
   "id": "0ecd77c7",
   "metadata": {},
   "outputs": [],
   "source": [
    "N_BINS = 2\n",
    "N_LEVELS = 5\n",
    "\n",
    "class_reg = ClassRegressorEnsemble(n_bins=N_BINS, n_levels=N_LEVELS, bins_calc_method='equal', \n",
    "                                     leaf_model=None)\n",
    "class_reg.fit(X_train_scaled, y_train)"
   ]
  },
  {
   "cell_type": "code",
   "execution_count": 186,
   "id": "473d5355",
   "metadata": {},
   "outputs": [
    {
     "data": {
      "text/plain": [
       "{(0, (0,)): <src.reg_classifier.ClassRegressor at 0x1fe90f4b8b0>,\n",
       " (1, (0, 0)): <src.reg_classifier.ClassRegressor at 0x1fe90f4baf0>,\n",
       " (2, (0, 0, 0)): <src.reg_classifier.ClassRegressor at 0x1fe903386a0>,\n",
       " (3, (0, 0, 0, 0)): <src.reg_classifier.ClassRegressor at 0x1fe903561c0>,\n",
       " (4, (0, 0, 0, 0, 0)): <src.reg_classifier.ClassRegressor at 0x1fe90f08eb0>,\n",
       " (4, (0, 0, 0, 0, 1)): <src.reg_classifier.ClassRegressor at 0x1fe90f497f0>,\n",
       " (3, (0, 0, 0, 1)): <src.reg_classifier.ClassRegressor at 0x1fe90679730>,\n",
       " (4, (0, 0, 0, 1, 0)): <src.reg_classifier.ClassRegressor at 0x1fe90679910>,\n",
       " (4, (0, 0, 0, 1, 1)): <src.reg_classifier.ClassRegressor at 0x1fe9197e7f0>,\n",
       " (2, (0, 0, 1)): <src.reg_classifier.ClassRegressor at 0x1fe90338b20>,\n",
       " (3, (0, 0, 1, 0)): <src.reg_classifier.ClassRegressor at 0x1fe90f27430>,\n",
       " (4, (0, 0, 1, 0, 0)): <src.reg_classifier.ClassRegressor at 0x1fe90376dc0>,\n",
       " (4, (0, 0, 1, 0, 1)): <src.reg_classifier.ClassRegressor at 0x1fe90356ee0>,\n",
       " (3, (0, 0, 1, 1)): <src.reg_classifier.ClassRegressor at 0x1fe90684280>,\n",
       " (4, (0, 0, 1, 1, 0)): <src.reg_classifier.ClassRegressor at 0x1fe90f087c0>,\n",
       " (4, (0, 0, 1, 1, 1)): <src.reg_classifier.ClassRegressor at 0x1fe90f42970>,\n",
       " (1, (0, 1)): <src.reg_classifier.ClassRegressor at 0x1fe90f49520>,\n",
       " (2, (0, 1, 0)): <src.reg_classifier.ClassRegressor at 0x1fe90f4bf70>,\n",
       " (3, (0, 1, 0, 0)): <src.reg_classifier.ClassRegressor at 0x1fe90f49eb0>,\n",
       " (4, (0, 1, 0, 0, 0)): <src.reg_classifier.ClassRegressor at 0x1fe90f49670>,\n",
       " (4, (0, 1, 0, 0, 1)): <src.reg_classifier.ClassRegressor at 0x1fe90f4b070>,\n",
       " (3, (0, 1, 0, 1)): <src.reg_classifier.ClassRegressor at 0x1fe90f58370>,\n",
       " (4, (0, 1, 0, 1, 0)): <src.reg_classifier.ClassRegressor at 0x1fe90f52790>,\n",
       " (4, (0, 1, 0, 1, 1)): <src.reg_classifier.ClassRegressor at 0x1fe90f52bb0>,\n",
       " (2, (0, 1, 1)): <src.reg_classifier.ClassRegressor at 0x1fe90f529d0>,\n",
       " (3, (0, 1, 1, 0)): <src.reg_classifier.ClassRegressor at 0x1fe90f528b0>,\n",
       " (4, (0, 1, 1, 0, 0)): <src.reg_classifier.ClassRegressor at 0x1fe90f52df0>,\n",
       " (4, (0, 1, 1, 0, 1)): <src.reg_classifier.ClassRegressor at 0x1fe90f52820>,\n",
       " (3, (0, 1, 1, 1)): <src.reg_classifier.ClassRegressor at 0x1fe90356820>,\n",
       " (4, (0, 1, 1, 1, 0)): <src.reg_classifier.ClassRegressor at 0x1fe90f4bc40>,\n",
       " (4, (0, 1, 1, 1, 1)): <src.reg_classifier.ClassRegressor at 0x1fe90f52910>}"
      ]
     },
     "execution_count": 186,
     "metadata": {},
     "output_type": "execute_result"
    }
   ],
   "source": [
    "class_reg.models"
   ]
  },
  {
   "cell_type": "code",
   "execution_count": 187,
   "id": "13b983e4",
   "metadata": {},
   "outputs": [],
   "source": [
    "pred_train = class_reg.predict(X_train_scaled)\n",
    "pred_test = class_reg.predict(X_test_scaled)"
   ]
  },
  {
   "cell_type": "code",
   "execution_count": 188,
   "id": "5650eb4c",
   "metadata": {},
   "outputs": [
    {
     "data": {
      "text/html": [
       "<div>\n",
       "<style scoped>\n",
       "    .dataframe tbody tr th:only-of-type {\n",
       "        vertical-align: middle;\n",
       "    }\n",
       "\n",
       "    .dataframe tbody tr th {\n",
       "        vertical-align: top;\n",
       "    }\n",
       "\n",
       "    .dataframe thead th {\n",
       "        text-align: right;\n",
       "    }\n",
       "</style>\n",
       "<table border=\"1\" class=\"dataframe\">\n",
       "  <thead>\n",
       "    <tr style=\"text-align: right;\">\n",
       "      <th></th>\n",
       "      <th>error_type</th>\n",
       "      <th>class_reg_train</th>\n",
       "      <th>class_reg_test</th>\n",
       "    </tr>\n",
       "  </thead>\n",
       "  <tbody>\n",
       "    <tr>\n",
       "      <th>0</th>\n",
       "      <td>MAE</td>\n",
       "      <td>47.426211</td>\n",
       "      <td>47.558614</td>\n",
       "    </tr>\n",
       "    <tr>\n",
       "      <th>1</th>\n",
       "      <td>RMSE</td>\n",
       "      <td>85.710682</td>\n",
       "      <td>84.366698</td>\n",
       "    </tr>\n",
       "    <tr>\n",
       "      <th>2</th>\n",
       "      <td>R2</td>\n",
       "      <td>0.320897</td>\n",
       "      <td>0.332182</td>\n",
       "    </tr>\n",
       "    <tr>\n",
       "      <th>3</th>\n",
       "      <td>MAPE</td>\n",
       "      <td>30.980740</td>\n",
       "      <td>31.292933</td>\n",
       "    </tr>\n",
       "  </tbody>\n",
       "</table>\n",
       "</div>"
      ],
      "text/plain": [
       "  error_type  class_reg_train  class_reg_test\n",
       "0        MAE        47.426211       47.558614\n",
       "1       RMSE        85.710682       84.366698\n",
       "2         R2         0.320897        0.332182\n",
       "3       MAPE        30.980740       31.292933"
      ]
     },
     "execution_count": 188,
     "metadata": {},
     "output_type": "execute_result"
    }
   ],
   "source": [
    "measured_metrics = pd.DataFrame({\"error_type\":[\"MAE\", \"RMSE\", \"R2\", \"MAPE\"]})\n",
    "measured_metrics.set_index(\"error_type\")\n",
    "\n",
    "measured_metrics[\"class_reg_train\"] = dataframe_metrics(y_train, pred_train)\n",
    "measured_metrics[\"class_reg_test\"] = dataframe_metrics(y_test, pred_test)\n",
    "measured_metrics"
   ]
  },
  {
   "cell_type": "code",
   "execution_count": 204,
   "id": "67b32a9b",
   "metadata": {},
   "outputs": [
    {
     "data": {
      "text/html": [
       "<div>\n",
       "<style scoped>\n",
       "    .dataframe tbody tr th:only-of-type {\n",
       "        vertical-align: middle;\n",
       "    }\n",
       "\n",
       "    .dataframe tbody tr th {\n",
       "        vertical-align: top;\n",
       "    }\n",
       "\n",
       "    .dataframe thead th {\n",
       "        text-align: right;\n",
       "    }\n",
       "</style>\n",
       "<table border=\"1\" class=\"dataframe\">\n",
       "  <thead>\n",
       "    <tr style=\"text-align: right;\">\n",
       "      <th></th>\n",
       "      <th>error_type</th>\n",
       "      <th>class_reg_train</th>\n",
       "      <th>class_reg_test</th>\n",
       "      <th>class_reg_log_train</th>\n",
       "      <th>class_reg_log_test</th>\n",
       "      <th>baseline_lgbm_Test</th>\n",
       "      <th>lin_reg_Test</th>\n",
       "    </tr>\n",
       "  </thead>\n",
       "  <tbody>\n",
       "    <tr>\n",
       "      <th>0</th>\n",
       "      <td>MAE</td>\n",
       "      <td>47.426211</td>\n",
       "      <td>47.558614</td>\n",
       "      <td>46.800413</td>\n",
       "      <td>46.903817</td>\n",
       "      <td>44.184880</td>\n",
       "      <td>49.708612</td>\n",
       "    </tr>\n",
       "    <tr>\n",
       "      <th>1</th>\n",
       "      <td>RMSE</td>\n",
       "      <td>85.710682</td>\n",
       "      <td>84.366698</td>\n",
       "      <td>83.783776</td>\n",
       "      <td>82.804938</td>\n",
       "      <td>71.781541</td>\n",
       "      <td>78.557245</td>\n",
       "    </tr>\n",
       "    <tr>\n",
       "      <th>2</th>\n",
       "      <td>R2</td>\n",
       "      <td>0.320897</td>\n",
       "      <td>0.332182</td>\n",
       "      <td>0.351088</td>\n",
       "      <td>0.356678</td>\n",
       "      <td>0.516561</td>\n",
       "      <td>0.420987</td>\n",
       "    </tr>\n",
       "    <tr>\n",
       "      <th>3</th>\n",
       "      <td>MAPE</td>\n",
       "      <td>30.980740</td>\n",
       "      <td>31.292933</td>\n",
       "      <td>32.004581</td>\n",
       "      <td>32.178187</td>\n",
       "      <td>35.340550</td>\n",
       "      <td>40.722833</td>\n",
       "    </tr>\n",
       "  </tbody>\n",
       "</table>\n",
       "</div>"
      ],
      "text/plain": [
       "  error_type  class_reg_train  class_reg_test  class_reg_log_train  \\\n",
       "0        MAE        47.426211       47.558614            46.800413   \n",
       "1       RMSE        85.710682       84.366698            83.783776   \n",
       "2         R2         0.320897        0.332182             0.351088   \n",
       "3       MAPE        30.980740       31.292933            32.004581   \n",
       "\n",
       "   class_reg_log_test  baseline_lgbm_Test  lin_reg_Test  \n",
       "0           46.903817           44.184880     49.708612  \n",
       "1           82.804938           71.781541     78.557245  \n",
       "2            0.356678            0.516561      0.420987  \n",
       "3           32.178187           35.340550     40.722833  "
      ]
     },
     "execution_count": 204,
     "metadata": {},
     "output_type": "execute_result"
    }
   ],
   "source": [
    "class_reg = ClassRegressorEnsembleLog(n_bins=2, n_levels=5, bins_calc_method='equal', leaf_size=1, \n",
    "                                     leaf_model=None)\n",
    "class_reg.fit(X_train_scaled, y_train)\n",
    "\n",
    "pred_train = class_reg.predict(X_train_scaled)\n",
    "pred_test = class_reg.predict(X_test_scaled)\n",
    "\n",
    "measured_metrics[\"class_reg_log_train\"] = dataframe_metrics(y_train, pred_train)\n",
    "measured_metrics[\"class_reg_log_test\"] = dataframe_metrics(y_test, pred_test)\n",
    "measured_metrics"
   ]
  },
  {
   "cell_type": "code",
   "execution_count": null,
   "id": "fcc7f40a",
   "metadata": {},
   "outputs": [],
   "source": []
  },
  {
   "cell_type": "code",
   "execution_count": 192,
   "id": "46998198",
   "metadata": {},
   "outputs": [
    {
     "data": {
      "text/html": [
       "<div>\n",
       "<style scoped>\n",
       "    .dataframe tbody tr th:only-of-type {\n",
       "        vertical-align: middle;\n",
       "    }\n",
       "\n",
       "    .dataframe tbody tr th {\n",
       "        vertical-align: top;\n",
       "    }\n",
       "\n",
       "    .dataframe thead th {\n",
       "        text-align: right;\n",
       "    }\n",
       "</style>\n",
       "<table border=\"1\" class=\"dataframe\">\n",
       "  <thead>\n",
       "    <tr style=\"text-align: right;\">\n",
       "      <th></th>\n",
       "      <th>error_type</th>\n",
       "      <th>class_reg_train</th>\n",
       "      <th>class_reg_test</th>\n",
       "      <th>class_reg_log_train</th>\n",
       "      <th>class_reg_log_test</th>\n",
       "      <th>baseline_lgbm_Test</th>\n",
       "    </tr>\n",
       "  </thead>\n",
       "  <tbody>\n",
       "    <tr>\n",
       "      <th>0</th>\n",
       "      <td>MAE</td>\n",
       "      <td>47.426211</td>\n",
       "      <td>47.558614</td>\n",
       "      <td>46.800394</td>\n",
       "      <td>46.903862</td>\n",
       "      <td>44.184880</td>\n",
       "    </tr>\n",
       "    <tr>\n",
       "      <th>1</th>\n",
       "      <td>RMSE</td>\n",
       "      <td>85.710682</td>\n",
       "      <td>84.366698</td>\n",
       "      <td>83.783776</td>\n",
       "      <td>82.804978</td>\n",
       "      <td>71.781541</td>\n",
       "    </tr>\n",
       "    <tr>\n",
       "      <th>2</th>\n",
       "      <td>R2</td>\n",
       "      <td>0.320897</td>\n",
       "      <td>0.332182</td>\n",
       "      <td>0.351088</td>\n",
       "      <td>0.356678</td>\n",
       "      <td>0.516561</td>\n",
       "    </tr>\n",
       "    <tr>\n",
       "      <th>3</th>\n",
       "      <td>MAPE</td>\n",
       "      <td>30.980740</td>\n",
       "      <td>31.292933</td>\n",
       "      <td>32.004485</td>\n",
       "      <td>32.178234</td>\n",
       "      <td>35.340550</td>\n",
       "    </tr>\n",
       "  </tbody>\n",
       "</table>\n",
       "</div>"
      ],
      "text/plain": [
       "  error_type  class_reg_train  class_reg_test  class_reg_log_train  \\\n",
       "0        MAE        47.426211       47.558614            46.800394   \n",
       "1       RMSE        85.710682       84.366698            83.783776   \n",
       "2         R2         0.320897        0.332182             0.351088   \n",
       "3       MAPE        30.980740       31.292933            32.004485   \n",
       "\n",
       "   class_reg_log_test  baseline_lgbm_Test  \n",
       "0           46.903862           44.184880  \n",
       "1           82.804978           71.781541  \n",
       "2            0.356678            0.516561  \n",
       "3           32.178234           35.340550  "
      ]
     },
     "execution_count": 192,
     "metadata": {},
     "output_type": "execute_result"
    }
   ],
   "source": [
    "lgbm_reg = LGBMRegressor()\n",
    "\n",
    "lgbm_reg.fit(X_train_scaled, y_train)\n",
    "\n",
    "measured_metrics[\"baseline_lgbm_Test\"] = dataframe_metrics(y_test, lgbm_reg.predict(X_test_scaled))\n",
    "measured_metrics"
   ]
  },
  {
   "cell_type": "code",
   "execution_count": 193,
   "id": "228ef874",
   "metadata": {},
   "outputs": [
    {
     "data": {
      "text/html": [
       "<div>\n",
       "<style scoped>\n",
       "    .dataframe tbody tr th:only-of-type {\n",
       "        vertical-align: middle;\n",
       "    }\n",
       "\n",
       "    .dataframe tbody tr th {\n",
       "        vertical-align: top;\n",
       "    }\n",
       "\n",
       "    .dataframe thead th {\n",
       "        text-align: right;\n",
       "    }\n",
       "</style>\n",
       "<table border=\"1\" class=\"dataframe\">\n",
       "  <thead>\n",
       "    <tr style=\"text-align: right;\">\n",
       "      <th></th>\n",
       "      <th>error_type</th>\n",
       "      <th>class_reg_train</th>\n",
       "      <th>class_reg_test</th>\n",
       "      <th>class_reg_log_train</th>\n",
       "      <th>class_reg_log_test</th>\n",
       "      <th>baseline_lgbm_Test</th>\n",
       "      <th>lin_reg_Test</th>\n",
       "    </tr>\n",
       "  </thead>\n",
       "  <tbody>\n",
       "    <tr>\n",
       "      <th>0</th>\n",
       "      <td>MAE</td>\n",
       "      <td>47.426211</td>\n",
       "      <td>47.558614</td>\n",
       "      <td>46.800394</td>\n",
       "      <td>46.903862</td>\n",
       "      <td>44.184880</td>\n",
       "      <td>49.708612</td>\n",
       "    </tr>\n",
       "    <tr>\n",
       "      <th>1</th>\n",
       "      <td>RMSE</td>\n",
       "      <td>85.710682</td>\n",
       "      <td>84.366698</td>\n",
       "      <td>83.783776</td>\n",
       "      <td>82.804978</td>\n",
       "      <td>71.781541</td>\n",
       "      <td>78.557245</td>\n",
       "    </tr>\n",
       "    <tr>\n",
       "      <th>2</th>\n",
       "      <td>R2</td>\n",
       "      <td>0.320897</td>\n",
       "      <td>0.332182</td>\n",
       "      <td>0.351088</td>\n",
       "      <td>0.356678</td>\n",
       "      <td>0.516561</td>\n",
       "      <td>0.420987</td>\n",
       "    </tr>\n",
       "    <tr>\n",
       "      <th>3</th>\n",
       "      <td>MAPE</td>\n",
       "      <td>30.980740</td>\n",
       "      <td>31.292933</td>\n",
       "      <td>32.004485</td>\n",
       "      <td>32.178234</td>\n",
       "      <td>35.340550</td>\n",
       "      <td>40.722833</td>\n",
       "    </tr>\n",
       "  </tbody>\n",
       "</table>\n",
       "</div>"
      ],
      "text/plain": [
       "  error_type  class_reg_train  class_reg_test  class_reg_log_train  \\\n",
       "0        MAE        47.426211       47.558614            46.800394   \n",
       "1       RMSE        85.710682       84.366698            83.783776   \n",
       "2         R2         0.320897        0.332182             0.351088   \n",
       "3       MAPE        30.980740       31.292933            32.004485   \n",
       "\n",
       "   class_reg_log_test  baseline_lgbm_Test  lin_reg_Test  \n",
       "0           46.903862           44.184880     49.708612  \n",
       "1           82.804978           71.781541     78.557245  \n",
       "2            0.356678            0.516561      0.420987  \n",
       "3           32.178234           35.340550     40.722833  "
      ]
     },
     "execution_count": 193,
     "metadata": {},
     "output_type": "execute_result"
    }
   ],
   "source": [
    "lin_reg = LinearRegression()\n",
    "\n",
    "lin_reg.fit(X_train_scaled, y_train)\n",
    "\n",
    "measured_metrics[\"lin_reg_Test\"] = dataframe_metrics(y_test, lin_reg.predict(X_test_scaled))\n",
    "measured_metrics"
   ]
  },
  {
   "cell_type": "code",
   "execution_count": null,
   "id": "f458753d",
   "metadata": {},
   "outputs": [],
   "source": []
  },
  {
   "cell_type": "code",
   "execution_count": null,
   "id": "dd373b91",
   "metadata": {},
   "outputs": [],
   "source": []
  }
 ],
 "metadata": {
  "kernelspec": {
   "display_name": "Python 3 (ipykernel)",
   "language": "python",
   "name": "python3"
  },
  "language_info": {
   "codemirror_mode": {
    "name": "ipython",
    "version": 3
   },
   "file_extension": ".py",
   "mimetype": "text/x-python",
   "name": "python",
   "nbconvert_exporter": "python",
   "pygments_lexer": "ipython3",
   "version": "3.8.11"
  }
 },
 "nbformat": 4,
 "nbformat_minor": 5
}
