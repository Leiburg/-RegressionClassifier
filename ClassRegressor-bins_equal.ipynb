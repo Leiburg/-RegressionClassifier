{
 "cells": [
  {
   "cell_type": "code",
   "execution_count": 1,
   "id": "831b3e2d",
   "metadata": {},
   "outputs": [],
   "source": [
    "%load_ext autoreload\n",
    "\n",
    "%autoreload 2"
   ]
  },
  {
   "cell_type": "code",
   "execution_count": 2,
   "id": "013a8657",
   "metadata": {},
   "outputs": [],
   "source": [
    " %reload_ext autoreload"
   ]
  },
  {
   "cell_type": "code",
   "execution_count": 3,
   "id": "a6596bc3",
   "metadata": {},
   "outputs": [],
   "source": [
    "import numpy as np\n",
    "import pandas as pd\n",
    "\n",
    "from sklearn.model_selection import train_test_split\n",
    "from sklearn.metrics import mean_absolute_error\n",
    "from sklearn.preprocessing import StandardScaler\n",
    "from sklearn.linear_model import LinearRegression\n",
    "from sklearn.dummy import DummyRegressor\n",
    "\n",
    "from lightgbm import LGBMRegressor\n",
    "\n",
    "import warnings\n",
    "warnings.filterwarnings(\"ignore\")"
   ]
  },
  {
   "cell_type": "code",
   "execution_count": 4,
   "id": "d3fb6cfb",
   "metadata": {},
   "outputs": [],
   "source": [
    "from src.reg_classifier import *"
   ]
  },
  {
   "cell_type": "code",
   "execution_count": 5,
   "id": "a17779cb",
   "metadata": {},
   "outputs": [],
   "source": [
    "df = pd.read_csv('./data/AB_NYC_2019_EDA.csv').drop(['Unnamed: 0'], axis=1)\n",
    "\n",
    "target_name = 'price'"
   ]
  },
  {
   "cell_type": "code",
   "execution_count": 6,
   "id": "25343ae5",
   "metadata": {},
   "outputs": [],
   "source": [
    "X, y = df.drop(columns=[target_name]), df[target_name]\n",
    "\n",
    "X_train, X_test, y_train, y_test = train_test_split(X, y, test_size=0.3, random_state=42)\n",
    "\n",
    "scaler = StandardScaler()\n",
    "X_train_scaled = pd.DataFrame(scaler.fit_transform(X_train), columns=X_train.columns)\n",
    "X_test_scaled = pd.DataFrame(scaler.transform(X_test), columns=X_test.columns)"
   ]
  },
  {
   "cell_type": "markdown",
   "id": "9ac51652",
   "metadata": {},
   "source": [
    "# Test ClassRegressor"
   ]
  },
  {
   "cell_type": "code",
   "execution_count": 7,
   "id": "13f4444e",
   "metadata": {},
   "outputs": [
    {
     "data": {
      "text/html": [
       "<div>\n",
       "<style scoped>\n",
       "    .dataframe tbody tr th:only-of-type {\n",
       "        vertical-align: middle;\n",
       "    }\n",
       "\n",
       "    .dataframe tbody tr th {\n",
       "        vertical-align: top;\n",
       "    }\n",
       "\n",
       "    .dataframe thead th {\n",
       "        text-align: right;\n",
       "    }\n",
       "</style>\n",
       "<table border=\"1\" class=\"dataframe\">\n",
       "  <thead>\n",
       "    <tr style=\"text-align: right;\">\n",
       "      <th></th>\n",
       "      <th>neighbourhood</th>\n",
       "      <th>price</th>\n",
       "      <th>availability_365</th>\n",
       "      <th>n-hood_group_Brooklyn</th>\n",
       "      <th>n-hood_group_Manhattan</th>\n",
       "      <th>n-hood_group_Queens</th>\n",
       "      <th>n-hood_group_Staten Island</th>\n",
       "      <th>room_type_Private room</th>\n",
       "      <th>room_type_Shared room</th>\n",
       "      <th>Manh_dist</th>\n",
       "      <th>Broo_dist</th>\n",
       "      <th>log_minimum_nights</th>\n",
       "      <th>log_number_of_reviews</th>\n",
       "      <th>log_reviews_per_month</th>\n",
       "      <th>log_calculated_host_listings_count</th>\n",
       "    </tr>\n",
       "  </thead>\n",
       "  <tbody>\n",
       "    <tr>\n",
       "      <th>0</th>\n",
       "      <td>92.669640</td>\n",
       "      <td>149</td>\n",
       "      <td>365</td>\n",
       "      <td>1</td>\n",
       "      <td>0</td>\n",
       "      <td>0</td>\n",
       "      <td>0</td>\n",
       "      <td>1</td>\n",
       "      <td>0</td>\n",
       "      <td>0.133675</td>\n",
       "      <td>0.025206</td>\n",
       "      <td>0.693147</td>\n",
       "      <td>2.302585</td>\n",
       "      <td>-1.560648</td>\n",
       "      <td>1.791759</td>\n",
       "    </tr>\n",
       "    <tr>\n",
       "      <th>1</th>\n",
       "      <td>252.614598</td>\n",
       "      <td>225</td>\n",
       "      <td>355</td>\n",
       "      <td>0</td>\n",
       "      <td>1</td>\n",
       "      <td>0</td>\n",
       "      <td>0</td>\n",
       "      <td>0</td>\n",
       "      <td>0</td>\n",
       "      <td>0.032827</td>\n",
       "      <td>0.108917</td>\n",
       "      <td>0.693147</td>\n",
       "      <td>3.828641</td>\n",
       "      <td>-0.967584</td>\n",
       "      <td>0.693147</td>\n",
       "    </tr>\n",
       "    <tr>\n",
       "      <th>2</th>\n",
       "      <td>109.915169</td>\n",
       "      <td>150</td>\n",
       "      <td>365</td>\n",
       "      <td>0</td>\n",
       "      <td>1</td>\n",
       "      <td>0</td>\n",
       "      <td>0</td>\n",
       "      <td>1</td>\n",
       "      <td>0</td>\n",
       "      <td>0.036737</td>\n",
       "      <td>0.158162</td>\n",
       "      <td>1.386294</td>\n",
       "      <td>0.000000</td>\n",
       "      <td>-0.328504</td>\n",
       "      <td>0.000000</td>\n",
       "    </tr>\n",
       "    <tr>\n",
       "      <th>3</th>\n",
       "      <td>140.791735</td>\n",
       "      <td>89</td>\n",
       "      <td>194</td>\n",
       "      <td>1</td>\n",
       "      <td>0</td>\n",
       "      <td>0</td>\n",
       "      <td>0</td>\n",
       "      <td>0</td>\n",
       "      <td>0</td>\n",
       "      <td>0.096037</td>\n",
       "      <td>0.036351</td>\n",
       "      <td>0.693147</td>\n",
       "      <td>5.602119</td>\n",
       "      <td>1.534714</td>\n",
       "      <td>0.000000</td>\n",
       "    </tr>\n",
       "    <tr>\n",
       "      <th>4</th>\n",
       "      <td>121.010757</td>\n",
       "      <td>80</td>\n",
       "      <td>0</td>\n",
       "      <td>0</td>\n",
       "      <td>1</td>\n",
       "      <td>0</td>\n",
       "      <td>0</td>\n",
       "      <td>0</td>\n",
       "      <td>0</td>\n",
       "      <td>0.027858</td>\n",
       "      <td>0.147596</td>\n",
       "      <td>2.397895</td>\n",
       "      <td>2.302585</td>\n",
       "      <td>-2.302585</td>\n",
       "      <td>0.000000</td>\n",
       "    </tr>\n",
       "  </tbody>\n",
       "</table>\n",
       "</div>"
      ],
      "text/plain": [
       "   neighbourhood  price  availability_365  n-hood_group_Brooklyn  \\\n",
       "0      92.669640    149               365                      1   \n",
       "1     252.614598    225               355                      0   \n",
       "2     109.915169    150               365                      0   \n",
       "3     140.791735     89               194                      1   \n",
       "4     121.010757     80                 0                      0   \n",
       "\n",
       "   n-hood_group_Manhattan  n-hood_group_Queens  n-hood_group_Staten Island  \\\n",
       "0                       0                    0                           0   \n",
       "1                       1                    0                           0   \n",
       "2                       1                    0                           0   \n",
       "3                       0                    0                           0   \n",
       "4                       1                    0                           0   \n",
       "\n",
       "   room_type_Private room  room_type_Shared room  Manh_dist  Broo_dist  \\\n",
       "0                       1                      0   0.133675   0.025206   \n",
       "1                       0                      0   0.032827   0.108917   \n",
       "2                       1                      0   0.036737   0.158162   \n",
       "3                       0                      0   0.096037   0.036351   \n",
       "4                       0                      0   0.027858   0.147596   \n",
       "\n",
       "   log_minimum_nights  log_number_of_reviews  log_reviews_per_month  \\\n",
       "0            0.693147               2.302585              -1.560648   \n",
       "1            0.693147               3.828641              -0.967584   \n",
       "2            1.386294               0.000000              -0.328504   \n",
       "3            0.693147               5.602119               1.534714   \n",
       "4            2.397895               2.302585              -2.302585   \n",
       "\n",
       "   log_calculated_host_listings_count  \n",
       "0                            1.791759  \n",
       "1                            0.693147  \n",
       "2                            0.000000  \n",
       "3                            0.000000  \n",
       "4                            0.000000  "
      ]
     },
     "execution_count": 7,
     "metadata": {},
     "output_type": "execute_result"
    }
   ],
   "source": [
    "df.head()"
   ]
  },
  {
   "cell_type": "code",
   "execution_count": 8,
   "id": "69baef2c",
   "metadata": {},
   "outputs": [
    {
     "data": {
      "text/plain": [
       "<AxesSubplot:>"
      ]
     },
     "execution_count": 8,
     "metadata": {},
     "output_type": "execute_result"
    },
    {
     "data": {
      "image/png": "[encoded data removed]",
      "text/plain": [
       "<Figure size 432x288 with 1 Axes>"
      ]
     },
     "metadata": {
      "needs_background": "light"
     },
     "output_type": "display_data"
    }
   ],
   "source": [
    "y.hist()"
   ]
  },
  {
   "cell_type": "code",
   "execution_count": 9,
   "id": "581c2ca0",
   "metadata": {},
   "outputs": [
    {
     "data": {
      "text/plain": [
       "count    48410.000000\n",
       "mean       137.575170\n",
       "std        103.780081\n",
       "min         10.000000\n",
       "25%         69.000000\n",
       "50%        105.000000\n",
       "75%        175.000000\n",
       "max        799.000000\n",
       "Name: price, dtype: float64"
      ]
     },
     "execution_count": 9,
     "metadata": {},
     "output_type": "execute_result"
    }
   ],
   "source": [
    "df[target_name].describe()"
   ]
  },
  {
   "cell_type": "code",
   "execution_count": 10,
   "id": "d95e5a80",
   "metadata": {},
   "outputs": [
    {
     "data": {
      "text/plain": [
       "{0: [10.0, 404.5], 1: [404.5, 799.0]}"
      ]
     },
     "execution_count": 10,
     "metadata": {},
     "output_type": "execute_result"
    }
   ],
   "source": [
    "clf_perc = ClassRegressor(n_bins=2, bins_calc_method='equal')\n",
    "clf_perc.fit(X, y)\n",
    "\n",
    "clf_perc.bin_borders"
   ]
  },
  {
   "cell_type": "code",
   "execution_count": 11,
   "id": "ee0ff145",
   "metadata": {},
   "outputs": [
    {
     "data": {
      "text/plain": [
       "0    47126\n",
       "1     1284\n",
       "dtype: int64"
      ]
     },
     "execution_count": 11,
     "metadata": {},
     "output_type": "execute_result"
    }
   ],
   "source": [
    "pd.Series(clf_perc.y_classes).value_counts()"
   ]
  },
  {
   "cell_type": "code",
   "execution_count": 12,
   "id": "2d709b3e",
   "metadata": {},
   "outputs": [
    {
     "data": {
      "text/plain": [
       "207.25    48400\n",
       "601.75       10\n",
       "dtype: int64"
      ]
     },
     "execution_count": 12,
     "metadata": {},
     "output_type": "execute_result"
    }
   ],
   "source": [
    "pd.Series(clf_perc.predict(X, regression=True)).value_counts()"
   ]
  },
  {
   "cell_type": "code",
   "execution_count": null,
   "id": "c1e7e6bd",
   "metadata": {},
   "outputs": [],
   "source": []
  },
  {
   "cell_type": "code",
   "execution_count": 13,
   "id": "348d1b4b",
   "metadata": {},
   "outputs": [
    {
     "name": "stdout",
     "output_type": "stream",
     "text": [
      "Class regressor\n",
      "train mae 107.4372842092838\n",
      "test mae 106.63263444191972\n"
     ]
    }
   ],
   "source": [
    "clf = ClassRegressor(n_bins=2)\n",
    "clf.fit(X_train_scaled, y_train)\n",
    "\n",
    "pred_train = clf.predict(X_train_scaled, regression=True)\n",
    "pred_test = clf.predict(X_test_scaled, regression=True)\n",
    "\n",
    "print('Class regressor')\n",
    "print('train mae', mean_absolute_error(y_train, pred_train))\n",
    "print('test mae', mean_absolute_error(y_test, pred_test))"
   ]
  },
  {
   "cell_type": "code",
   "execution_count": 14,
   "id": "477b0935",
   "metadata": {},
   "outputs": [
    {
     "data": {
      "text/plain": [
       "<AxesSubplot:>"
      ]
     },
     "execution_count": 14,
     "metadata": {},
     "output_type": "execute_result"
    },
    {
     "data": {
      "image/png": "[encoded data removed]",
      "text/plain": [
       "<Figure size 432x288 with 1 Axes>"
      ]
     },
     "metadata": {
      "needs_background": "light"
     },
     "output_type": "display_data"
    }
   ],
   "source": [
    "y_train.hist()"
   ]
  },
  {
   "cell_type": "code",
   "execution_count": 15,
   "id": "24a551d8",
   "metadata": {},
   "outputs": [
    {
     "data": {
      "text/plain": [
       "<AxesSubplot:>"
      ]
     },
     "execution_count": 15,
     "metadata": {},
     "output_type": "execute_result"
    },
    {
     "data": {
      "image/png": "[encoded data removed]",
      "text/plain": [
       "<Figure size 432x288 with 1 Axes>"
      ]
     },
     "metadata": {
      "needs_background": "light"
     },
     "output_type": "display_data"
    }
   ],
   "source": [
    "pd.Series(pred_train).hist()"
   ]
  },
  {
   "cell_type": "code",
   "execution_count": 16,
   "id": "d4ffd9bd",
   "metadata": {},
   "outputs": [
    {
     "name": "stdout",
     "output_type": "stream",
     "text": [
      "Dummy regressor\n",
      "train mae 73.40003703765083\n",
      "test mae 73.39060713427676\n"
     ]
    }
   ],
   "source": [
    "dummy_regr = DummyRegressor(strategy=\"mean\")\n",
    "dummy_regr.fit(X_train_scaled, y_train)\n",
    "\n",
    "\n",
    "pred_train = dummy_regr.predict(X_train_scaled)\n",
    "pred_test = dummy_regr.predict(X_test_scaled)\n",
    "\n",
    "print('Dummy regressor')\n",
    "print('train mae', mean_absolute_error(y_train, pred_train))\n",
    "print('test mae', mean_absolute_error(y_test, pred_test))"
   ]
  },
  {
   "cell_type": "markdown",
   "id": "852b93f9",
   "metadata": {},
   "source": [
    "# Test ClassRegressorEnsemble (with LinearRegression)"
   ]
  },
  {
   "cell_type": "code",
   "execution_count": 17,
   "id": "92b7de05",
   "metadata": {},
   "outputs": [],
   "source": [
    "N_BINS = 2\n",
    "N_LEVELS = 1\n",
    "\n",
    "class_reg = ClassRegressorEnsemble(n_bins=N_BINS, n_levels=N_LEVELS, leaf_model=LinearRegression)\n",
    "\n",
    "class_reg.fit(X_train_scaled, y_train)"
   ]
  },
  {
   "cell_type": "code",
   "execution_count": 18,
   "id": "4ca74bd6",
   "metadata": {},
   "outputs": [
    {
     "data": {
      "text/plain": [
       "{(0, (0,)): <src.reg_classifier.ClassRegressor at 0x1b3fd0eee80>}"
      ]
     },
     "execution_count": 18,
     "metadata": {},
     "output_type": "execute_result"
    }
   ],
   "source": [
    "class_reg.models"
   ]
  },
  {
   "cell_type": "code",
   "execution_count": 19,
   "id": "629074c0",
   "metadata": {},
   "outputs": [
    {
     "data": {
      "text/plain": [
       "{0: [9.9999999999, 404.5], 1: [404.4999999999, 799.0]}"
      ]
     },
     "execution_count": 19,
     "metadata": {},
     "output_type": "execute_result"
    }
   ],
   "source": [
    "class_reg.models[(0, (0,))].bin_borders"
   ]
  },
  {
   "cell_type": "code",
   "execution_count": 20,
   "id": "1f8310fb",
   "metadata": {},
   "outputs": [],
   "source": [
    "#class_reg.models[(1, (0, 0))].bin_borders"
   ]
  },
  {
   "cell_type": "code",
   "execution_count": 21,
   "id": "8866bf52",
   "metadata": {},
   "outputs": [],
   "source": [
    "#class_reg.models[(1, (0, 1))].bin_borders"
   ]
  },
  {
   "cell_type": "code",
   "execution_count": 22,
   "id": "cc895148",
   "metadata": {},
   "outputs": [
    {
     "data": {
      "text/plain": [
       "(neighbourhood                         2.390667\n",
       " availability_365                      0.804064\n",
       " n-hood_group_Brooklyn                -0.834955\n",
       " n-hood_group_Manhattan                1.123723\n",
       " n-hood_group_Queens                  -0.364281\n",
       " n-hood_group_Staten Island           -0.088610\n",
       " room_type_Private room               -0.925042\n",
       " room_type_Shared room                -0.156487\n",
       " Manh_dist                            -1.076243\n",
       " Broo_dist                             0.198089\n",
       " log_minimum_nights                    0.128277\n",
       " log_number_of_reviews                -0.838499\n",
       " log_reviews_per_month                -0.036852\n",
       " log_calculated_host_listings_count    1.449238\n",
       " Name: 0, dtype: float64,\n",
       " 419)"
      ]
     },
     "execution_count": 22,
     "metadata": {},
     "output_type": "execute_result"
    }
   ],
   "source": [
    "X_train_scaled.iloc[0], y_train.iloc[0]"
   ]
  },
  {
   "cell_type": "code",
   "execution_count": 23,
   "id": "b45efd44",
   "metadata": {},
   "outputs": [
    {
     "data": {
      "text/plain": [
       "array([0], dtype=int64)"
      ]
     },
     "execution_count": 23,
     "metadata": {},
     "output_type": "execute_result"
    }
   ],
   "source": [
    "class_reg.models[(0, (0,))].predict(X_train_scaled.iloc[:1])"
   ]
  },
  {
   "cell_type": "code",
   "execution_count": 24,
   "id": "5263776f",
   "metadata": {},
   "outputs": [
    {
     "data": {
      "text/plain": [
       "array([248.29169184])"
      ]
     },
     "execution_count": 24,
     "metadata": {},
     "output_type": "execute_result"
    }
   ],
   "source": [
    "class_reg.predict(X_train_scaled.iloc[:1])"
   ]
  },
  {
   "cell_type": "code",
   "execution_count": null,
   "id": "2af4ce24",
   "metadata": {},
   "outputs": [],
   "source": []
  },
  {
   "cell_type": "code",
   "execution_count": 25,
   "id": "4787c953",
   "metadata": {},
   "outputs": [
    {
     "data": {
      "text/plain": [
       "<AxesSubplot:>"
      ]
     },
     "execution_count": 25,
     "metadata": {},
     "output_type": "execute_result"
    },
    {
     "data": {
      "image/png": "[encoded data removed]",
      "text/plain": [
       "<Figure size 432x288 with 1 Axes>"
      ]
     },
     "metadata": {
      "needs_background": "light"
     },
     "output_type": "display_data"
    }
   ],
   "source": [
    "y_train.hist(bins=30)"
   ]
  },
  {
   "cell_type": "code",
   "execution_count": 26,
   "id": "e1a1ff3d",
   "metadata": {},
   "outputs": [
    {
     "data": {
      "text/plain": [
       "<AxesSubplot:>"
      ]
     },
     "execution_count": 26,
     "metadata": {},
     "output_type": "execute_result"
    },
    {
     "data": {
      "image/png": "[encoded data removed]",
      "text/plain": [
       "<Figure size 432x288 with 1 Axes>"
      ]
     },
     "metadata": {
      "needs_background": "light"
     },
     "output_type": "display_data"
    }
   ],
   "source": [
    "pred_train = class_reg.predict(X_train_scaled)\n",
    "pd.Series(pred_train).hist(bins=30)"
   ]
  },
  {
   "cell_type": "code",
   "execution_count": null,
   "id": "aa76bf97",
   "metadata": {},
   "outputs": [],
   "source": []
  },
  {
   "cell_type": "code",
   "execution_count": 27,
   "id": "e2635da1",
   "metadata": {},
   "outputs": [
    {
     "name": "stdout",
     "output_type": "stream",
     "text": [
      "Simple ClassRegressor ensemble\n",
      "train mae 47.43186437041619\n",
      "test mae 47.21950775279553\n"
     ]
    }
   ],
   "source": [
    "class_reg = ClassRegressorEnsemble(n_bins=N_BINS, n_levels=N_LEVELS, leaf_model=LinearRegression)\n",
    "class_reg.fit(X_train_scaled, y_train)\n",
    "\n",
    "pred_train = class_reg.predict(X_train_scaled)\n",
    "pred_test = class_reg.predict(X_test_scaled)\n",
    "\n",
    "print('Simple ClassRegressor ensemble')\n",
    "print('train mae', mean_absolute_error(y_train, pred_train))\n",
    "print('test mae', mean_absolute_error(y_test, pred_test))"
   ]
  },
  {
   "cell_type": "code",
   "execution_count": null,
   "id": "f458753d",
   "metadata": {},
   "outputs": [],
   "source": []
  },
  {
   "cell_type": "code",
   "execution_count": 28,
   "id": "dd373b91",
   "metadata": {},
   "outputs": [
    {
     "name": "stdout",
     "output_type": "stream",
     "text": [
      "Simple ClassRegressor ensemble\n",
      "train mae 47.95158984272065\n",
      "test mae 48.348871101020585\n"
     ]
    }
   ],
   "source": [
    "class_reg = ClassRegressorEnsemble(n_bins=100, n_levels=1, leaf_model=None)\n",
    "class_reg.fit(X_train_scaled, y_train)\n",
    "\n",
    "pred_train = class_reg.predict(X_train_scaled)\n",
    "pred_test = class_reg.predict(X_test_scaled)\n",
    "\n",
    "print('Simple ClassRegressor ensemble')\n",
    "print('train mae', mean_absolute_error(y_train, pred_train))\n",
    "print('test mae', mean_absolute_error(y_test, pred_test))"
   ]
  },
  {
   "cell_type": "code",
   "execution_count": null,
   "id": "bfcf79e0",
   "metadata": {},
   "outputs": [],
   "source": []
  }
 ],
 "metadata": {
  "kernelspec": {
   "display_name": "Python 3 (ipykernel)",
   "language": "python",
   "name": "python3"
  },
  "language_info": {
   "codemirror_mode": {
    "name": "ipython",
    "version": 3
   },
   "file_extension": ".py",
   "mimetype": "text/x-python",
   "name": "python",
   "nbconvert_exporter": "python",
   "pygments_lexer": "ipython3",
   "version": "3.8.11"
  }
 },
 "nbformat": 4,
 "nbformat_minor": 5
}
