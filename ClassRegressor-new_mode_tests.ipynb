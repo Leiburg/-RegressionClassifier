{
 "cells": [
  {
   "cell_type": "code",
   "execution_count": 1,
   "id": "831b3e2d",
   "metadata": {},
   "outputs": [],
   "source": [
    "%load_ext autoreload\n",
    "\n",
    "%autoreload 2"
   ]
  },
  {
   "cell_type": "code",
   "execution_count": 2,
   "id": "a6596bc3",
   "metadata": {},
   "outputs": [],
   "source": [
    "import numpy as np\n",
    "import pandas as pd\n",
    "\n",
    "from sklearn.model_selection import train_test_split\n",
    "from sklearn.metrics import mean_absolute_error\n",
    "from sklearn.preprocessing import StandardScaler\n",
    "from sklearn.linear_model import LinearRegression\n",
    "from sklearn.dummy import DummyRegressor\n",
    "\n",
    "from lightgbm import LGBMRegressor\n",
    "\n",
    "import warnings\n",
    "warnings.filterwarnings(\"ignore\")"
   ]
  },
  {
   "cell_type": "code",
   "execution_count": 3,
   "id": "d3fb6cfb",
   "metadata": {},
   "outputs": [],
   "source": [
    "from src.reg_classifier_test import *\n",
    "# from src.reg_classifier_log import *"
   ]
  },
  {
   "cell_type": "code",
   "execution_count": 4,
   "id": "a17779cb",
   "metadata": {},
   "outputs": [],
   "source": [
    "df = pd.read_csv('./data/AB_NYC_2019_EDA.csv').drop(['Unnamed: 0'], axis=1)\n",
    "\n",
    "target_name = 'price'"
   ]
  },
  {
   "cell_type": "code",
   "execution_count": 5,
   "id": "25343ae5",
   "metadata": {},
   "outputs": [],
   "source": [
    "X, y = df.drop(columns=[target_name]), df[target_name]\n",
    "\n",
    "X_train, X_test, y_train, y_test = train_test_split(X, y, test_size=0.3, random_state=42)\n",
    "\n",
    "scaler = StandardScaler()\n",
    "X_train_scaled = pd.DataFrame(scaler.fit_transform(X_train), columns=X_train.columns)\n",
    "X_test_scaled = pd.DataFrame(scaler.transform(X_test), columns=X_test.columns)"
   ]
  },
  {
   "cell_type": "code",
   "execution_count": null,
   "id": "be079b6f",
   "metadata": {},
   "outputs": [],
   "source": []
  },
  {
   "cell_type": "code",
   "execution_count": 25,
   "id": "34fe0efd",
   "metadata": {},
   "outputs": [
    {
     "name": "stdout",
     "output_type": "stream",
     "text": [
      "n_bins = 20, perc = 5, idx_bin = 1\n",
      "n_bins = 20, perc = 10, idx_bin = 2\n",
      "n_bins = 20, perc = 15, idx_bin = 3\n",
      "n_bins = 20, perc = 20, idx_bin = 4\n",
      "n_bins = 20, perc = 25, idx_bin = 5\n",
      "n_bins = 20, perc = 30, idx_bin = 6\n",
      "n_bins = 20, perc = 35, idx_bin = 7\n",
      "n_bins = 20, perc = 40, idx_bin = 8\n",
      "n_bins = 20, perc = 45, idx_bin = 9\n",
      "n_bins = 20, perc = 50, idx_bin = 10\n",
      "n_bins = 20, perc = 55, idx_bin = 11\n",
      "n_bins = 20, perc = 60, idx_bin = 12\n",
      "n_bins = 20, perc = 65, idx_bin = 13\n",
      "n_bins = 20, perc = 70, idx_bin = 14\n",
      "n_bins = 20, perc = 75, idx_bin = 15\n",
      "n_bins = 20, perc = 80, idx_bin = 16\n",
      "n_bins = 20, perc = 85, idx_bin = 17\n",
      "n_bins = 20, perc = 90, idx_bin = 18\n",
      "n_bins = 20, perc = 95, idx_bin = 19\n",
      "Simple ClassRegressor ensemble\n",
      "train mae 47.130906394782656\n",
      "test mae 46.8672984231908\n",
      "Wall time: 50.7 s\n"
     ]
    }
   ],
   "source": [
    "%%time\n",
    "class_reg = ClassRegressorEnsemble(n_bins=20, bins_calc_method='equal')\n",
    "class_reg.fit(X_train_scaled, y_train)\n",
    "\n",
    "pred_train = class_reg.predict(X_train_scaled)\n",
    "pred_test = class_reg.predict(X_test_scaled)\n",
    "\n",
    "print('Simple ClassRegressor ensemble')\n",
    "print('train mae', mean_absolute_error(y_train, pred_train))\n",
    "print('test mae', mean_absolute_error(y_test, pred_test))"
   ]
  },
  {
   "cell_type": "code",
   "execution_count": 26,
   "id": "e52b10af",
   "metadata": {},
   "outputs": [
    {
     "name": "stdout",
     "output_type": "stream",
     "text": [
      "n_bins = 20, perc = 5, idx_bin = 1\n",
      "n_bins = 20, perc = 10, idx_bin = 2\n",
      "n_bins = 20, perc = 15, idx_bin = 3\n",
      "n_bins = 20, perc = 20, idx_bin = 4\n",
      "n_bins = 20, perc = 25, idx_bin = 5\n",
      "n_bins = 20, perc = 30, idx_bin = 6\n",
      "n_bins = 20, perc = 35, idx_bin = 7\n",
      "n_bins = 20, perc = 40, idx_bin = 8\n",
      "n_bins = 20, perc = 45, idx_bin = 9\n",
      "n_bins = 20, perc = 50, idx_bin = 10\n",
      "n_bins = 20, perc = 55, idx_bin = 11\n",
      "n_bins = 20, perc = 60, idx_bin = 12\n",
      "n_bins = 20, perc = 65, idx_bin = 13\n",
      "n_bins = 20, perc = 70, idx_bin = 14\n",
      "n_bins = 20, perc = 75, idx_bin = 15\n",
      "n_bins = 20, perc = 80, idx_bin = 16\n",
      "n_bins = 20, perc = 85, idx_bin = 17\n",
      "n_bins = 20, perc = 90, idx_bin = 18\n",
      "n_bins = 20, perc = 95, idx_bin = 19\n",
      "Simple ClassRegressor ensemble\n",
      "train mae 46.267595243013545\n",
      "test mae 46.01924533498588\n",
      "Wall time: 39.8 s\n"
     ]
    }
   ],
   "source": [
    "%%time\n",
    "class_reg = ClassRegressorEnsemble(n_bins=20, bins_calc_method='percentile')\n",
    "class_reg.fit(X_train_scaled, y_train)\n",
    "\n",
    "pred_train = class_reg.predict(X_train_scaled)\n",
    "pred_test = class_reg.predict(X_test_scaled)\n",
    "\n",
    "print('Simple ClassRegressor ensemble')\n",
    "print('train mae', mean_absolute_error(y_train, pred_train))\n",
    "print('test mae', mean_absolute_error(y_test, pred_test))"
   ]
  },
  {
   "cell_type": "code",
   "execution_count": 27,
   "id": "2682fdae",
   "metadata": {},
   "outputs": [
    {
     "name": "stdout",
     "output_type": "stream",
     "text": [
      "n_bins = 20, perc = 5, idx_bin = 1\n",
      "n_bins = 20, perc = 10, idx_bin = 2\n",
      "n_bins = 20, perc = 15, idx_bin = 3\n",
      "n_bins = 20, perc = 20, idx_bin = 4\n",
      "n_bins = 20, perc = 25, idx_bin = 5\n",
      "n_bins = 20, perc = 30, idx_bin = 6\n",
      "n_bins = 20, perc = 35, idx_bin = 7\n",
      "n_bins = 20, perc = 40, idx_bin = 8\n",
      "n_bins = 20, perc = 45, idx_bin = 9\n",
      "n_bins = 20, perc = 50, idx_bin = 10\n",
      "n_bins = 20, perc = 55, idx_bin = 11\n",
      "n_bins = 20, perc = 60, idx_bin = 12\n",
      "n_bins = 20, perc = 65, idx_bin = 13\n",
      "n_bins = 20, perc = 70, idx_bin = 14\n",
      "n_bins = 20, perc = 75, idx_bin = 15\n",
      "n_bins = 20, perc = 80, idx_bin = 16\n",
      "n_bins = 20, perc = 85, idx_bin = 17\n",
      "n_bins = 20, perc = 90, idx_bin = 18\n",
      "n_bins = 20, perc = 95, idx_bin = 19\n",
      "Simple ClassRegressor ensemble\n",
      "train mae 47.3502869832089\n",
      "test mae 47.233335054740756\n",
      "Wall time: 1min 4s\n"
     ]
    }
   ],
   "source": [
    "%%time\n",
    "class_reg = ClassRegressorEnsemble(n_bins=20, bins_calc_method='equal', full_mode=False)\n",
    "class_reg.fit(X_train_scaled, y_train)\n",
    "\n",
    "pred_train = class_reg.predict(X_train_scaled)\n",
    "pred_test = class_reg.predict(X_test_scaled)\n",
    "\n",
    "print('Simple ClassRegressor ensemble')\n",
    "print('train mae', mean_absolute_error(y_train, pred_train))\n",
    "print('test mae', mean_absolute_error(y_test, pred_test))"
   ]
  },
  {
   "cell_type": "code",
   "execution_count": 28,
   "id": "d8aa3386",
   "metadata": {},
   "outputs": [
    {
     "name": "stdout",
     "output_type": "stream",
     "text": [
      "n_bins = 20, perc = 5, idx_bin = 1\n",
      "n_bins = 20, perc = 10, idx_bin = 2\n",
      "n_bins = 20, perc = 15, idx_bin = 3\n",
      "n_bins = 20, perc = 20, idx_bin = 4\n",
      "n_bins = 20, perc = 25, idx_bin = 5\n",
      "n_bins = 20, perc = 30, idx_bin = 6\n",
      "n_bins = 20, perc = 35, idx_bin = 7\n",
      "n_bins = 20, perc = 40, idx_bin = 8\n",
      "n_bins = 20, perc = 45, idx_bin = 9\n",
      "n_bins = 20, perc = 50, idx_bin = 10\n",
      "n_bins = 20, perc = 55, idx_bin = 11\n",
      "n_bins = 20, perc = 60, idx_bin = 12\n",
      "n_bins = 20, perc = 65, idx_bin = 13\n",
      "n_bins = 20, perc = 70, idx_bin = 14\n",
      "n_bins = 20, perc = 75, idx_bin = 15\n",
      "n_bins = 20, perc = 80, idx_bin = 16\n",
      "n_bins = 20, perc = 85, idx_bin = 17\n",
      "n_bins = 20, perc = 90, idx_bin = 18\n",
      "n_bins = 20, perc = 95, idx_bin = 19\n",
      "Simple ClassRegressor ensemble\n",
      "train mae 47.4617257355328\n",
      "test mae 47.30864835089169\n",
      "Wall time: 48.9 s\n"
     ]
    }
   ],
   "source": [
    "%%time\n",
    "class_reg = ClassRegressorEnsemble(n_bins=20, bins_calc_method='percentile', full_mode=False)\n",
    "class_reg.fit(X_train_scaled, y_train)\n",
    "\n",
    "pred_train = class_reg.predict(X_train_scaled)\n",
    "pred_test = class_reg.predict(X_test_scaled)\n",
    "\n",
    "print('Simple ClassRegressor ensemble')\n",
    "print('train mae', mean_absolute_error(y_train, pred_train))\n",
    "print('test mae', mean_absolute_error(y_test, pred_test))"
   ]
  },
  {
   "cell_type": "code",
   "execution_count": null,
   "id": "cadd58c8",
   "metadata": {},
   "outputs": [],
   "source": []
  },
  {
   "cell_type": "code",
   "execution_count": 36,
   "id": "72335048",
   "metadata": {},
   "outputs": [
    {
     "name": "stdout",
     "output_type": "stream",
     "text": [
      "n_bins = 20, perc = 5, idx_bin = 1\n",
      "n_bins = 20, perc = 10, idx_bin = 2\n",
      "n_bins = 20, perc = 15, idx_bin = 3\n",
      "n_bins = 20, perc = 20, idx_bin = 4\n",
      "n_bins = 20, perc = 25, idx_bin = 5\n",
      "n_bins = 20, perc = 30, idx_bin = 6\n",
      "n_bins = 20, perc = 35, idx_bin = 7\n",
      "n_bins = 20, perc = 40, idx_bin = 8\n",
      "n_bins = 20, perc = 45, idx_bin = 9\n",
      "n_bins = 20, perc = 50, idx_bin = 10\n",
      "n_bins = 20, perc = 55, idx_bin = 11\n",
      "n_bins = 20, perc = 60, idx_bin = 12\n",
      "n_bins = 20, perc = 65, idx_bin = 13\n",
      "n_bins = 20, perc = 70, idx_bin = 14\n",
      "n_bins = 20, perc = 75, idx_bin = 15\n",
      "n_bins = 20, perc = 80, idx_bin = 16\n",
      "n_bins = 20, perc = 85, idx_bin = 17\n",
      "n_bins = 20, perc = 90, idx_bin = 18\n",
      "n_bins = 20, perc = 95, idx_bin = 19\n",
      "start_class =  4\n"
     ]
    },
    {
     "ename": "Exception",
     "evalue": "Bin error",
     "output_type": "error",
     "traceback": [
      "\u001b[1;31m---------------------------------------------------------------------------\u001b[0m",
      "\u001b[1;31mException\u001b[0m                                 Traceback (most recent call last)",
      "\u001b[1;32m<timed exec>\u001b[0m in \u001b[0;36m<module>\u001b[1;34m\u001b[0m\n",
      "\u001b[1;32md:\\Dropbox\\Projects\\RegressionClassifier\\src\\reg_classifier_test.py\u001b[0m in \u001b[0;36mpredict\u001b[1;34m(self, X)\u001b[0m\n\u001b[0;32m    131\u001b[0m             \u001b[1;32melse\u001b[0m\u001b[1;33m:\u001b[0m\u001b[1;33m\u001b[0m\u001b[1;33m\u001b[0m\u001b[0m\n\u001b[0;32m    132\u001b[0m                 \u001b[1;32mraise\u001b[0m \u001b[0mException\u001b[0m\u001b[1;33m(\u001b[0m\u001b[1;34m'Bin error'\u001b[0m\u001b[1;33m)\u001b[0m\u001b[1;33m\u001b[0m\u001b[1;33m\u001b[0m\u001b[0m\n\u001b[1;32m--> 133\u001b[1;33m \u001b[1;33m\u001b[0m\u001b[0m\n\u001b[0m\u001b[0;32m    134\u001b[0m             \u001b[0mprev_class\u001b[0m \u001b[1;33m=\u001b[0m \u001b[0mstart_class\u001b[0m\u001b[1;33m\u001b[0m\u001b[1;33m\u001b[0m\u001b[0m\n\u001b[0;32m    135\u001b[0m             \u001b[0mprev_clf\u001b[0m \u001b[1;33m=\u001b[0m \u001b[0mclf\u001b[0m\u001b[1;33m\u001b[0m\u001b[1;33m\u001b[0m\u001b[0m\n",
      "\u001b[1;31mException\u001b[0m: Bin error"
     ]
    }
   ],
   "source": [
    "%%time\n",
    "class_reg = ClassRegressorEnsemble(n_bins=20, bins_calc_method='percentile', full_mode=False)\n",
    "class_reg.fit(X_train_scaled, y_train)\n",
    "\n",
    "pred_train = class_reg.predict(X_train_scaled)\n",
    "pred_test = class_reg.predict(X_test_scaled)\n",
    "\n",
    "print('Simple ClassRegressor ensemble')\n",
    "print('train mae', mean_absolute_error(y_train, pred_train))\n",
    "print('test mae', mean_absolute_error(y_test, pred_test))"
   ]
  },
  {
   "cell_type": "code",
   "execution_count": null,
   "id": "38eccce8",
   "metadata": {},
   "outputs": [],
   "source": []
  },
  {
   "cell_type": "code",
   "execution_count": null,
   "id": "837ccded",
   "metadata": {},
   "outputs": [],
   "source": []
  },
  {
   "cell_type": "code",
   "execution_count": 44,
   "id": "3373654e",
   "metadata": {},
   "outputs": [
    {
     "data": {
      "text/plain": [
       "{10: <src.reg_classifier_test.ClassRegressor at 0x18d2d8637f0>,\n",
       " 20: <src.reg_classifier_test.ClassRegressor at 0x18d2d863640>,\n",
       " 30: <src.reg_classifier_test.ClassRegressor at 0x18d2d863ac0>,\n",
       " 40: <src.reg_classifier_test.ClassRegressor at 0x18d2d863730>,\n",
       " 50: <src.reg_classifier_test.ClassRegressor at 0x18d26774250>,\n",
       " 60: <src.reg_classifier_test.ClassRegressor at 0x18d2e09b940>,\n",
       " 70: <src.reg_classifier_test.ClassRegressor at 0x18d2e09ba00>,\n",
       " 80: <src.reg_classifier_test.ClassRegressor at 0x18d2d85c070>,\n",
       " 90: <src.reg_classifier_test.ClassRegressor at 0x18d2d85c9a0>}"
      ]
     },
     "execution_count": 44,
     "metadata": {},
     "output_type": "execute_result"
    }
   ],
   "source": [
    "class_reg.models"
   ]
  },
  {
   "cell_type": "code",
   "execution_count": 45,
   "id": "4ee927f4",
   "metadata": {},
   "outputs": [
    {
     "data": {
      "text/plain": [
       "{0: [10.0, 404.5], 1: [404.5, 799.0]}"
      ]
     },
     "execution_count": 45,
     "metadata": {},
     "output_type": "execute_result"
    }
   ],
   "source": [
    "class_reg.models[50].bin_borders"
   ]
  },
  {
   "cell_type": "code",
   "execution_count": 62,
   "id": "521b262f",
   "metadata": {},
   "outputs": [
    {
     "data": {
      "text/plain": [
       "{0: [10.0, 246.70000000000002], 1: [246.70000000000002, 799.0]}"
      ]
     },
     "execution_count": 62,
     "metadata": {},
     "output_type": "execute_result"
    }
   ],
   "source": [
    "class_reg.models[30].bin_borders"
   ]
  },
  {
   "cell_type": "code",
   "execution_count": 54,
   "id": "fed7157f",
   "metadata": {},
   "outputs": [
    {
     "data": {
      "text/plain": [
       "{0: [10.0, 167.8], 1: [167.8, 799.0]}"
      ]
     },
     "execution_count": 54,
     "metadata": {},
     "output_type": "execute_result"
    }
   ],
   "source": [
    "class_reg.models[20].bin_borders"
   ]
  },
  {
   "cell_type": "code",
   "execution_count": 55,
   "id": "0f8825c2",
   "metadata": {},
   "outputs": [
    {
     "data": {
      "text/plain": [
       "{0: [10.0, 88.9], 1: [88.9, 799.0]}"
      ]
     },
     "execution_count": 55,
     "metadata": {},
     "output_type": "execute_result"
    }
   ],
   "source": [
    "class_reg.models[10].bin_borders"
   ]
  },
  {
   "cell_type": "code",
   "execution_count": 48,
   "id": "71f99749",
   "metadata": {},
   "outputs": [
    {
     "data": {
      "text/plain": [
       "array([0], dtype=int64)"
      ]
     },
     "execution_count": 48,
     "metadata": {},
     "output_type": "execute_result"
    }
   ],
   "source": [
    "class_reg.models[50].predict(X_train_scaled.iloc[:1])"
   ]
  },
  {
   "cell_type": "code",
   "execution_count": 49,
   "id": "53d34a1c",
   "metadata": {},
   "outputs": [
    {
     "data": {
      "text/plain": [
       "array([572.3])"
      ]
     },
     "execution_count": 49,
     "metadata": {},
     "output_type": "execute_result"
    }
   ],
   "source": [
    "class_reg.predict(X_train_scaled.iloc[:1])"
   ]
  },
  {
   "cell_type": "code",
   "execution_count": 63,
   "id": "7dd07e01",
   "metadata": {},
   "outputs": [
    {
     "data": {
      "text/plain": [
       "256.70     5665\n",
       "49.45      5566\n",
       "414.50     2783\n",
       "572.30      472\n",
       "730.10       31\n",
       "887.90        3\n",
       "1045.70       3\n",
       "dtype: int64"
      ]
     },
     "execution_count": 63,
     "metadata": {},
     "output_type": "execute_result"
    }
   ],
   "source": [
    "pd.Series(pred_test).value_counts()"
   ]
  },
  {
   "cell_type": "code",
   "execution_count": 57,
   "id": "028bf16e",
   "metadata": {},
   "outputs": [
    {
     "data": {
      "text/plain": [
       "<AxesSubplot:>"
      ]
     },
     "execution_count": 57,
     "metadata": {},
     "output_type": "execute_result"
    },
    {
     "data": {
      "image/png": "[encoded data removed]",
      "text/plain": [
       "<Figure size 432x288 with 1 Axes>"
      ]
     },
     "metadata": {
      "needs_background": "light"
     },
     "output_type": "display_data"
    }
   ],
   "source": [
    "pd.Series(pred_test).hist(bins=30)"
   ]
  },
  {
   "cell_type": "code",
   "execution_count": null,
   "id": "3d7ab612",
   "metadata": {},
   "outputs": [],
   "source": []
  },
  {
   "cell_type": "code",
   "execution_count": null,
   "id": "bc55bba1",
   "metadata": {},
   "outputs": [],
   "source": []
  },
  {
   "cell_type": "markdown",
   "id": "9ac51652",
   "metadata": {},
   "source": [
    "# Test ClassRegressor"
   ]
  },
  {
   "cell_type": "code",
   "execution_count": 11,
   "id": "13f4444e",
   "metadata": {},
   "outputs": [
    {
     "data": {
      "text/html": [
       "<div>\n",
       "<style scoped>\n",
       "    .dataframe tbody tr th:only-of-type {\n",
       "        vertical-align: middle;\n",
       "    }\n",
       "\n",
       "    .dataframe tbody tr th {\n",
       "        vertical-align: top;\n",
       "    }\n",
       "\n",
       "    .dataframe thead th {\n",
       "        text-align: right;\n",
       "    }\n",
       "</style>\n",
       "<table border=\"1\" class=\"dataframe\">\n",
       "  <thead>\n",
       "    <tr style=\"text-align: right;\">\n",
       "      <th></th>\n",
       "      <th>neighbourhood</th>\n",
       "      <th>price</th>\n",
       "      <th>availability_365</th>\n",
       "      <th>n-hood_group_Brooklyn</th>\n",
       "      <th>n-hood_group_Manhattan</th>\n",
       "      <th>n-hood_group_Queens</th>\n",
       "      <th>n-hood_group_Staten Island</th>\n",
       "      <th>room_type_Private room</th>\n",
       "      <th>room_type_Shared room</th>\n",
       "      <th>Manh_dist</th>\n",
       "      <th>Broo_dist</th>\n",
       "      <th>log_minimum_nights</th>\n",
       "      <th>log_number_of_reviews</th>\n",
       "      <th>log_reviews_per_month</th>\n",
       "      <th>log_calculated_host_listings_count</th>\n",
       "    </tr>\n",
       "  </thead>\n",
       "  <tbody>\n",
       "    <tr>\n",
       "      <th>0</th>\n",
       "      <td>92.669640</td>\n",
       "      <td>149</td>\n",
       "      <td>365</td>\n",
       "      <td>1</td>\n",
       "      <td>0</td>\n",
       "      <td>0</td>\n",
       "      <td>0</td>\n",
       "      <td>1</td>\n",
       "      <td>0</td>\n",
       "      <td>0.133675</td>\n",
       "      <td>0.025206</td>\n",
       "      <td>0.693147</td>\n",
       "      <td>2.302585</td>\n",
       "      <td>-1.560648</td>\n",
       "      <td>1.791759</td>\n",
       "    </tr>\n",
       "    <tr>\n",
       "      <th>1</th>\n",
       "      <td>252.614598</td>\n",
       "      <td>225</td>\n",
       "      <td>355</td>\n",
       "      <td>0</td>\n",
       "      <td>1</td>\n",
       "      <td>0</td>\n",
       "      <td>0</td>\n",
       "      <td>0</td>\n",
       "      <td>0</td>\n",
       "      <td>0.032827</td>\n",
       "      <td>0.108917</td>\n",
       "      <td>0.693147</td>\n",
       "      <td>3.828641</td>\n",
       "      <td>-0.967584</td>\n",
       "      <td>0.693147</td>\n",
       "    </tr>\n",
       "    <tr>\n",
       "      <th>2</th>\n",
       "      <td>109.915169</td>\n",
       "      <td>150</td>\n",
       "      <td>365</td>\n",
       "      <td>0</td>\n",
       "      <td>1</td>\n",
       "      <td>0</td>\n",
       "      <td>0</td>\n",
       "      <td>1</td>\n",
       "      <td>0</td>\n",
       "      <td>0.036737</td>\n",
       "      <td>0.158162</td>\n",
       "      <td>1.386294</td>\n",
       "      <td>0.000000</td>\n",
       "      <td>-0.328504</td>\n",
       "      <td>0.000000</td>\n",
       "    </tr>\n",
       "    <tr>\n",
       "      <th>3</th>\n",
       "      <td>140.791735</td>\n",
       "      <td>89</td>\n",
       "      <td>194</td>\n",
       "      <td>1</td>\n",
       "      <td>0</td>\n",
       "      <td>0</td>\n",
       "      <td>0</td>\n",
       "      <td>0</td>\n",
       "      <td>0</td>\n",
       "      <td>0.096037</td>\n",
       "      <td>0.036351</td>\n",
       "      <td>0.693147</td>\n",
       "      <td>5.602119</td>\n",
       "      <td>1.534714</td>\n",
       "      <td>0.000000</td>\n",
       "    </tr>\n",
       "    <tr>\n",
       "      <th>4</th>\n",
       "      <td>121.010757</td>\n",
       "      <td>80</td>\n",
       "      <td>0</td>\n",
       "      <td>0</td>\n",
       "      <td>1</td>\n",
       "      <td>0</td>\n",
       "      <td>0</td>\n",
       "      <td>0</td>\n",
       "      <td>0</td>\n",
       "      <td>0.027858</td>\n",
       "      <td>0.147596</td>\n",
       "      <td>2.397895</td>\n",
       "      <td>2.302585</td>\n",
       "      <td>-2.302585</td>\n",
       "      <td>0.000000</td>\n",
       "    </tr>\n",
       "  </tbody>\n",
       "</table>\n",
       "</div>"
      ],
      "text/plain": [
       "   neighbourhood  price  availability_365  n-hood_group_Brooklyn  \\\n",
       "0      92.669640    149               365                      1   \n",
       "1     252.614598    225               355                      0   \n",
       "2     109.915169    150               365                      0   \n",
       "3     140.791735     89               194                      1   \n",
       "4     121.010757     80                 0                      0   \n",
       "\n",
       "   n-hood_group_Manhattan  n-hood_group_Queens  n-hood_group_Staten Island  \\\n",
       "0                       0                    0                           0   \n",
       "1                       1                    0                           0   \n",
       "2                       1                    0                           0   \n",
       "3                       0                    0                           0   \n",
       "4                       1                    0                           0   \n",
       "\n",
       "   room_type_Private room  room_type_Shared room  Manh_dist  Broo_dist  \\\n",
       "0                       1                      0   0.133675   0.025206   \n",
       "1                       0                      0   0.032827   0.108917   \n",
       "2                       1                      0   0.036737   0.158162   \n",
       "3                       0                      0   0.096037   0.036351   \n",
       "4                       0                      0   0.027858   0.147596   \n",
       "\n",
       "   log_minimum_nights  log_number_of_reviews  log_reviews_per_month  \\\n",
       "0            0.693147               2.302585              -1.560648   \n",
       "1            0.693147               3.828641              -0.967584   \n",
       "2            1.386294               0.000000              -0.328504   \n",
       "3            0.693147               5.602119               1.534714   \n",
       "4            2.397895               2.302585              -2.302585   \n",
       "\n",
       "   log_calculated_host_listings_count  \n",
       "0                            1.791759  \n",
       "1                            0.693147  \n",
       "2                            0.000000  \n",
       "3                            0.000000  \n",
       "4                            0.000000  "
      ]
     },
     "execution_count": 11,
     "metadata": {},
     "output_type": "execute_result"
    }
   ],
   "source": [
    "df.head()"
   ]
  },
  {
   "cell_type": "code",
   "execution_count": 12,
   "id": "69baef2c",
   "metadata": {},
   "outputs": [
    {
     "data": {
      "text/plain": [
       "<AxesSubplot:>"
      ]
     },
     "execution_count": 12,
     "metadata": {},
     "output_type": "execute_result"
    },
    {
     "data": {
      "image/png": "[encoded data removed]",
      "text/plain": [
       "<Figure size 432x288 with 1 Axes>"
      ]
     },
     "metadata": {
      "needs_background": "light"
     },
     "output_type": "display_data"
    }
   ],
   "source": [
    "y.hist()"
   ]
  },
  {
   "cell_type": "code",
   "execution_count": 13,
   "id": "581c2ca0",
   "metadata": {},
   "outputs": [
    {
     "data": {
      "text/plain": [
       "count    48410.000000\n",
       "mean       137.575170\n",
       "std        103.780081\n",
       "min         10.000000\n",
       "25%         69.000000\n",
       "50%        105.000000\n",
       "75%        175.000000\n",
       "max        799.000000\n",
       "Name: price, dtype: float64"
      ]
     },
     "execution_count": 13,
     "metadata": {},
     "output_type": "execute_result"
    }
   ],
   "source": [
    "df[target_name].describe()"
   ]
  },
  {
   "cell_type": "code",
   "execution_count": 14,
   "id": "80704904",
   "metadata": {},
   "outputs": [],
   "source": [
    "clf = ClassRegressor(n_bins=2)"
   ]
  },
  {
   "cell_type": "code",
   "execution_count": 15,
   "id": "2fe55268",
   "metadata": {},
   "outputs": [
    {
     "data": {
      "text/plain": [
       "<src.reg_classifier.ClassRegressor at 0x1f1d5f4ecd0>"
      ]
     },
     "execution_count": 15,
     "metadata": {},
     "output_type": "execute_result"
    }
   ],
   "source": [
    "clf.fit(X, y)"
   ]
  },
  {
   "cell_type": "code",
   "execution_count": 16,
   "id": "afc5d23e",
   "metadata": {},
   "outputs": [
    {
     "data": {
      "text/plain": [
       "{0: [10.0, 404.5], 1: [404.5, 799.0]}"
      ]
     },
     "execution_count": 16,
     "metadata": {},
     "output_type": "execute_result"
    }
   ],
   "source": [
    "clf.bin_borders"
   ]
  },
  {
   "cell_type": "code",
   "execution_count": 17,
   "id": "ccbd26e2",
   "metadata": {},
   "outputs": [
    {
     "data": {
      "text/plain": [
       "array([0, 0, 0, ..., 0, 0, 0], dtype=int64)"
      ]
     },
     "execution_count": 17,
     "metadata": {},
     "output_type": "execute_result"
    }
   ],
   "source": [
    "clf.y_classes"
   ]
  },
  {
   "cell_type": "code",
   "execution_count": 18,
   "id": "e58bc4bd",
   "metadata": {},
   "outputs": [
    {
     "data": {
      "text/plain": [
       "0    47126\n",
       "1     1284\n",
       "dtype: int64"
      ]
     },
     "execution_count": 18,
     "metadata": {},
     "output_type": "execute_result"
    }
   ],
   "source": [
    "pd.Series(clf.y_classes).value_counts()"
   ]
  },
  {
   "cell_type": "code",
   "execution_count": 19,
   "id": "03ade83e",
   "metadata": {},
   "outputs": [
    {
     "data": {
      "text/plain": [
       "count    1284.000000\n",
       "mean      545.380062\n",
       "std       103.736305\n",
       "min       407.000000\n",
       "25%       452.750000\n",
       "50%       500.000000\n",
       "75%       600.000000\n",
       "max       799.000000\n",
       "Name: price, dtype: float64"
      ]
     },
     "execution_count": 19,
     "metadata": {},
     "output_type": "execute_result"
    }
   ],
   "source": [
    "df[target_name][clf.y_classes.astype(bool)].describe()"
   ]
  },
  {
   "cell_type": "code",
   "execution_count": 20,
   "id": "0534e657",
   "metadata": {},
   "outputs": [
    {
     "data": {
      "text/plain": [
       "count    47126.000000\n",
       "mean       126.464075\n",
       "std         78.205286\n",
       "min         10.000000\n",
       "25%         67.000000\n",
       "50%        100.000000\n",
       "75%        165.000000\n",
       "max        404.000000\n",
       "Name: price, dtype: float64"
      ]
     },
     "execution_count": 20,
     "metadata": {},
     "output_type": "execute_result"
    }
   ],
   "source": [
    "df[target_name][~clf.y_classes.astype(bool)].describe()"
   ]
  },
  {
   "cell_type": "code",
   "execution_count": 21,
   "id": "858b1c2b",
   "metadata": {},
   "outputs": [
    {
     "data": {
      "text/plain": [
       "array([0], dtype=int64)"
      ]
     },
     "execution_count": 21,
     "metadata": {},
     "output_type": "execute_result"
    }
   ],
   "source": [
    "clf.predict(X.values[0:1])"
   ]
  },
  {
   "cell_type": "code",
   "execution_count": 22,
   "id": "1009b262",
   "metadata": {},
   "outputs": [
    {
     "data": {
      "text/plain": [
       "array([207.25])"
      ]
     },
     "execution_count": 22,
     "metadata": {},
     "output_type": "execute_result"
    }
   ],
   "source": [
    "clf.predict(X.values[0:1], regression=True)"
   ]
  },
  {
   "cell_type": "code",
   "execution_count": 23,
   "id": "10498e8b",
   "metadata": {},
   "outputs": [
    {
     "data": {
      "text/plain": [
       "0    48400\n",
       "1       10\n",
       "dtype: int64"
      ]
     },
     "execution_count": 23,
     "metadata": {},
     "output_type": "execute_result"
    }
   ],
   "source": [
    "pd.Series(clf.predict(X)).value_counts()"
   ]
  },
  {
   "cell_type": "code",
   "execution_count": 24,
   "id": "7aae2860",
   "metadata": {},
   "outputs": [
    {
     "data": {
      "text/plain": [
       "207.25    48400\n",
       "601.75       10\n",
       "dtype: int64"
      ]
     },
     "execution_count": 24,
     "metadata": {},
     "output_type": "execute_result"
    }
   ],
   "source": [
    "pd.Series(clf.predict(X, regression=True)).value_counts()"
   ]
  },
  {
   "cell_type": "code",
   "execution_count": 25,
   "id": "d95e5a80",
   "metadata": {},
   "outputs": [
    {
     "data": {
      "text/plain": [
       "{0: [10.0, 105.0], 1: [105.0, 799.0]}"
      ]
     },
     "execution_count": 25,
     "metadata": {},
     "output_type": "execute_result"
    }
   ],
   "source": [
    "clf_perc = ClassRegressor(n_bins=2, bins_calc_method='percentile')\n",
    "clf_perc.fit(X, y)\n",
    "\n",
    "clf_perc.bin_borders"
   ]
  },
  {
   "cell_type": "code",
   "execution_count": 26,
   "id": "ee0ff145",
   "metadata": {},
   "outputs": [
    {
     "data": {
      "text/plain": [
       "0    24426\n",
       "1    23984\n",
       "dtype: int64"
      ]
     },
     "execution_count": 26,
     "metadata": {},
     "output_type": "execute_result"
    }
   ],
   "source": [
    "pd.Series(clf_perc.y_classes).value_counts()"
   ]
  },
  {
   "cell_type": "code",
   "execution_count": 27,
   "id": "2d709b3e",
   "metadata": {},
   "outputs": [
    {
     "data": {
      "text/plain": [
       "452.0    25010\n",
       "57.5     23400\n",
       "dtype: int64"
      ]
     },
     "execution_count": 27,
     "metadata": {},
     "output_type": "execute_result"
    }
   ],
   "source": [
    "pd.Series(clf_perc.predict(X, regression=True)).value_counts()"
   ]
  },
  {
   "cell_type": "code",
   "execution_count": 28,
   "id": "7925f26f",
   "metadata": {},
   "outputs": [
    {
     "name": "stdout",
     "output_type": "stream",
     "text": [
      "Class regressor\n",
      "train mae 59.35382004898634\n",
      "test mae 58.78675893410453\n"
     ]
    }
   ],
   "source": [
    "clf = ClassRegressor(n_bins=5)\n",
    "clf.fit(X_train_scaled, y_train)\n",
    "\n",
    "pred_train = clf.predict(X_train_scaled, regression=True)\n",
    "pred_test = clf.predict(X_test_scaled, regression=True)\n",
    "\n",
    "print('Class regressor')\n",
    "print('train mae', mean_absolute_error(y_train, pred_train))\n",
    "print('test mae', mean_absolute_error(y_test, pred_test))"
   ]
  },
  {
   "cell_type": "code",
   "execution_count": 29,
   "id": "ff502575",
   "metadata": {},
   "outputs": [
    {
     "name": "stdout",
     "output_type": "stream",
     "text": [
      "Class regressor ()\n",
      "train mae 91.81907516156639\n",
      "test mae 92.08366040074365\n"
     ]
    }
   ],
   "source": [
    "clf_perc = ClassRegressor(n_bins=5, bins_calc_method='percentile')\n",
    "clf_perc.fit(X_train_scaled, y_train)\n",
    "\n",
    "pred_train = clf_perc.predict(X_train_scaled, regression=True)\n",
    "pred_test = clf_perc.predict(X_test_scaled, regression=True)\n",
    "\n",
    "print('Class regressor ()')\n",
    "print('train mae', mean_absolute_error(y_train, pred_train))\n",
    "print('test mae', mean_absolute_error(y_test, pred_test))"
   ]
  },
  {
   "cell_type": "code",
   "execution_count": 30,
   "id": "6118c37f",
   "metadata": {},
   "outputs": [
    {
     "data": {
      "text/plain": [
       "<AxesSubplot:>"
      ]
     },
     "execution_count": 30,
     "metadata": {},
     "output_type": "execute_result"
    },
    {
     "data": {
      "image/png": "[encoded data removed]",
      "text/plain": [
       "<Figure size 432x288 with 1 Axes>"
      ]
     },
     "metadata": {
      "needs_background": "light"
     },
     "output_type": "display_data"
    }
   ],
   "source": [
    "pd.Series(pred_train).hist()"
   ]
  },
  {
   "cell_type": "code",
   "execution_count": 31,
   "id": "d4ffd9bd",
   "metadata": {},
   "outputs": [
    {
     "name": "stdout",
     "output_type": "stream",
     "text": [
      "Dummy regressor\n",
      "train mae 73.40003703765083\n",
      "test mae 73.39060713427676\n"
     ]
    }
   ],
   "source": [
    "dummy_regr = DummyRegressor(strategy=\"mean\")\n",
    "dummy_regr.fit(X_train_scaled, y_train)\n",
    "\n",
    "\n",
    "pred_train = dummy_regr.predict(X_train_scaled)\n",
    "pred_test = dummy_regr.predict(X_test_scaled)\n",
    "\n",
    "print('Dummy regressor')\n",
    "print('train mae', mean_absolute_error(y_train, pred_train))\n",
    "print('test mae', mean_absolute_error(y_test, pred_test))"
   ]
  },
  {
   "cell_type": "markdown",
   "id": "852b93f9",
   "metadata": {},
   "source": [
    "# Test ClassRegressorEnsemble"
   ]
  },
  {
   "cell_type": "code",
   "execution_count": 32,
   "id": "92b7de05",
   "metadata": {},
   "outputs": [],
   "source": [
    "N_BINS = 2\n",
    "N_LEVELS = 3\n",
    "\n",
    "class_reg = ClassRegressorEnsemble(n_bins=N_BINS, n_levels=N_LEVELS)\n",
    "\n",
    "class_reg.fit(X_train_scaled, y_train)"
   ]
  },
  {
   "cell_type": "code",
   "execution_count": 33,
   "id": "4ca74bd6",
   "metadata": {},
   "outputs": [
    {
     "data": {
      "text/plain": [
       "{(0, (0,)): <src.reg_classifier.ClassRegressor at 0x1f1d42cbac0>,\n",
       " (1, (0, 0)): <src.reg_classifier.ClassRegressor at 0x1f1d42cb400>,\n",
       " (2, (0, 0, 0)): <src.reg_classifier.ClassRegressor at 0x1f1d42cba90>,\n",
       " (2, (0, 0, 1)): <src.reg_classifier.ClassRegressor at 0x1f1d5f24850>,\n",
       " (1, (0, 1)): <src.reg_classifier.ClassRegressor at 0x1f1d60624f0>,\n",
       " (2, (0, 1, 0)): <src.reg_classifier.ClassRegressor at 0x1f1d6062a30>,\n",
       " (2, (0, 1, 1)): <src.reg_classifier.ClassRegressor at 0x1f1d605b9a0>}"
      ]
     },
     "execution_count": 33,
     "metadata": {},
     "output_type": "execute_result"
    }
   ],
   "source": [
    "class_reg.models"
   ]
  },
  {
   "cell_type": "code",
   "execution_count": 34,
   "id": "629074c0",
   "metadata": {},
   "outputs": [
    {
     "data": {
      "text/plain": [
       "{0: [9.9999999999, 404.5], 1: [404.4999999999, 799.0]}"
      ]
     },
     "execution_count": 34,
     "metadata": {},
     "output_type": "execute_result"
    }
   ],
   "source": [
    "class_reg.models[(0, (0,))].bin_borders"
   ]
  },
  {
   "cell_type": "code",
   "execution_count": 35,
   "id": "1f47263b",
   "metadata": {},
   "outputs": [
    {
     "data": {
      "text/plain": [
       "{0: [9.9999999999, 207.0], 1: [206.9999999999, 404.0]}"
      ]
     },
     "execution_count": 35,
     "metadata": {},
     "output_type": "execute_result"
    }
   ],
   "source": [
    "class_reg.models[(1, (0, 0))].bin_borders"
   ]
  },
  {
   "cell_type": "code",
   "execution_count": 36,
   "id": "76362c84",
   "metadata": {},
   "outputs": [
    {
     "data": {
      "text/plain": [
       "{0: [406.9999999999, 603.0], 1: [602.9999999999, 799.0]}"
      ]
     },
     "execution_count": 36,
     "metadata": {},
     "output_type": "execute_result"
    }
   ],
   "source": [
    "class_reg.models[(1, (0, 1))].bin_borders"
   ]
  },
  {
   "cell_type": "code",
   "execution_count": 37,
   "id": "cc895148",
   "metadata": {},
   "outputs": [
    {
     "data": {
      "text/plain": [
       "(neighbourhood                         2.390667\n",
       " availability_365                      0.804064\n",
       " n-hood_group_Brooklyn                -0.834955\n",
       " n-hood_group_Manhattan                1.123723\n",
       " n-hood_group_Queens                  -0.364281\n",
       " n-hood_group_Staten Island           -0.088610\n",
       " room_type_Private room               -0.925042\n",
       " room_type_Shared room                -0.156487\n",
       " Manh_dist                            -1.076243\n",
       " Broo_dist                             0.198089\n",
       " log_minimum_nights                    0.128277\n",
       " log_number_of_reviews                -0.838499\n",
       " log_reviews_per_month                -0.036852\n",
       " log_calculated_host_listings_count    1.449238\n",
       " Name: 0, dtype: float64,\n",
       " 419)"
      ]
     },
     "execution_count": 37,
     "metadata": {},
     "output_type": "execute_result"
    }
   ],
   "source": [
    "X_train_scaled.iloc[0], y_train.iloc[0]"
   ]
  },
  {
   "cell_type": "code",
   "execution_count": 38,
   "id": "b45efd44",
   "metadata": {},
   "outputs": [
    {
     "data": {
      "text/plain": [
       "array([0], dtype=int64)"
      ]
     },
     "execution_count": 38,
     "metadata": {},
     "output_type": "execute_result"
    }
   ],
   "source": [
    "class_reg.models[(0, (0,))].predict(X_train_scaled.iloc[:1])"
   ]
  },
  {
   "cell_type": "code",
   "execution_count": 39,
   "id": "5263776f",
   "metadata": {},
   "outputs": [
    {
     "data": {
      "text/plain": [
       "array([256.25])"
      ]
     },
     "execution_count": 39,
     "metadata": {},
     "output_type": "execute_result"
    }
   ],
   "source": [
    "class_reg.predict(X_train_scaled.iloc[:1])"
   ]
  },
  {
   "cell_type": "code",
   "execution_count": 40,
   "id": "7513398a",
   "metadata": {},
   "outputs": [],
   "source": [
    "pred_test = class_reg.predict(X_test_scaled)"
   ]
  },
  {
   "cell_type": "code",
   "execution_count": 41,
   "id": "9c15920e",
   "metadata": {},
   "outputs": [
    {
     "data": {
      "text/plain": [
       "59.25     7394\n",
       "157.75    6246\n",
       "256.25     877\n",
       "455.25       6\n",
       "dtype: int64"
      ]
     },
     "execution_count": 41,
     "metadata": {},
     "output_type": "execute_result"
    }
   ],
   "source": [
    "pd.Series(pred_test).value_counts()"
   ]
  },
  {
   "cell_type": "code",
   "execution_count": 42,
   "id": "e2635da1",
   "metadata": {},
   "outputs": [
    {
     "name": "stdout",
     "output_type": "stream",
     "text": [
      "Simple ClassRegressor ensemble\n",
      "train mae 51.34710213356925\n",
      "test mae 51.81889072506428\n"
     ]
    }
   ],
   "source": [
    "class_reg = ClassRegressorEnsemble(n_bins=N_BINS, n_levels=N_LEVELS)\n",
    "class_reg.fit(X_train_scaled, y_train)\n",
    "\n",
    "pred_train = class_reg.predict(X_train_scaled)\n",
    "pred_test = class_reg.predict(X_test_scaled)\n",
    "\n",
    "print('Simple ClassRegressor ensemble')\n",
    "print('train mae', mean_absolute_error(y_train, pred_train))\n",
    "print('test mae', mean_absolute_error(y_test, pred_test))"
   ]
  },
  {
   "cell_type": "code",
   "execution_count": 43,
   "id": "9bce7dc3",
   "metadata": {},
   "outputs": [
    {
     "name": "stdout",
     "output_type": "stream",
     "text": [
      "Simple ClassRegressor ensemble\n",
      "train mae 57.47815724585235\n",
      "test mae 57.82578415851053\n"
     ]
    }
   ],
   "source": [
    "class_reg = ClassRegressorEnsemble(n_bins=N_BINS, n_levels=N_LEVELS, \n",
    "                                               bins_calc_method='percentile', leaf_size=10, \n",
    "                                               leaf_model=LinearRegression)\n",
    "class_reg.fit(X_train_scaled, y_train)\n",
    "\n",
    "pred_train = class_reg.predict(X_train_scaled)\n",
    "pred_test = class_reg.predict(X_test_scaled)\n",
    "\n",
    "print('Simple ClassRegressor ensemble')\n",
    "print('train mae', mean_absolute_error(y_train, pred_train))\n",
    "print('test mae', mean_absolute_error(y_test, pred_test))"
   ]
  },
  {
   "cell_type": "markdown",
   "id": "1e9de6d6",
   "metadata": {},
   "source": [
    "# Test large ClassRegressorEnsemble"
   ]
  },
  {
   "cell_type": "code",
   "execution_count": 44,
   "id": "0ecd77c7",
   "metadata": {},
   "outputs": [],
   "source": [
    "N_BINS = 2\n",
    "N_LEVELS = 5\n",
    "\n",
    "class_reg = ClassRegressorEnsemble(n_bins=N_BINS, n_levels=N_LEVELS, bins_calc_method='equal', \n",
    "                                     leaf_model=None)\n",
    "class_reg.fit(X_train_scaled, y_train)"
   ]
  },
  {
   "cell_type": "code",
   "execution_count": 45,
   "id": "473d5355",
   "metadata": {},
   "outputs": [
    {
     "data": {
      "text/plain": [
       "{(0, (0,)): <src.reg_classifier.ClassRegressor at 0x1f1d5f24970>,\n",
       " (1, (0, 0)): <src.reg_classifier.ClassRegressor at 0x1f1d42cb550>,\n",
       " (2, (0, 0, 0)): <src.reg_classifier.ClassRegressor at 0x1f1d6097fd0>,\n",
       " (3, (0, 0, 0, 0)): <src.reg_classifier.ClassRegressor at 0x1f1d6097d90>,\n",
       " (4, (0, 0, 0, 0, 0)): <src.reg_classifier.ClassRegressor at 0x1f1d6097f70>,\n",
       " (4, (0, 0, 0, 0, 1)): <src.reg_classifier.ClassRegressor at 0x1f1d6097370>,\n",
       " (3, (0, 0, 0, 1)): <src.reg_classifier.ClassRegressor at 0x1f1d6097130>,\n",
       " (4, (0, 0, 0, 1, 0)): <src.reg_classifier.ClassRegressor at 0x1f1d6097b80>,\n",
       " (4, (0, 0, 0, 1, 1)): <src.reg_classifier.ClassRegressor at 0x1f1d64248b0>,\n",
       " (2, (0, 0, 1)): <src.reg_classifier.ClassRegressor at 0x1f1d6089bb0>,\n",
       " (3, (0, 0, 1, 0)): <src.reg_classifier.ClassRegressor at 0x1f1d6073f10>,\n",
       " (4, (0, 0, 1, 0, 0)): <src.reg_classifier.ClassRegressor at 0x1f1d6073f70>,\n",
       " (4, (0, 0, 1, 0, 1)): <src.reg_classifier.ClassRegressor at 0x1f1d6091040>,\n",
       " (3, (0, 0, 1, 1)): <src.reg_classifier.ClassRegressor at 0x1f1d6424430>,\n",
       " (4, (0, 0, 1, 1, 0)): <src.reg_classifier.ClassRegressor at 0x1f1d6073d00>,\n",
       " (4, (0, 0, 1, 1, 1)): <src.reg_classifier.ClassRegressor at 0x1f1d6073eb0>,\n",
       " (1, (0, 1)): <src.reg_classifier.ClassRegressor at 0x1f1d6073dc0>,\n",
       " (2, (0, 1, 0)): <src.reg_classifier.ClassRegressor at 0x1f1d60910d0>,\n",
       " (3, (0, 1, 0, 0)): <src.reg_classifier.ClassRegressor at 0x1f1d6073cd0>,\n",
       " (4, (0, 1, 0, 0, 0)): <src.reg_classifier.ClassRegressor at 0x1f1d6091850>,\n",
       " (4, (0, 1, 0, 0, 1)): <src.reg_classifier.ClassRegressor at 0x1f1d6089250>,\n",
       " (3, (0, 1, 0, 1)): <src.reg_classifier.ClassRegressor at 0x1f1d60918b0>,\n",
       " (4, (0, 1, 0, 1, 0)): <src.reg_classifier.ClassRegressor at 0x1f1d604f520>,\n",
       " (4, (0, 1, 0, 1, 1)): <src.reg_classifier.ClassRegressor at 0x1f1d6097bb0>,\n",
       " (2, (0, 1, 1)): <src.reg_classifier.ClassRegressor at 0x1f1d6089910>,\n",
       " (3, (0, 1, 1, 0)): <src.reg_classifier.ClassRegressor at 0x1f1d42cbd60>,\n",
       " (4, (0, 1, 1, 0, 0)): <src.reg_classifier.ClassRegressor at 0x1f1d6424700>,\n",
       " (4, (0, 1, 1, 0, 1)): <src.reg_classifier.ClassRegressor at 0x1f1d6097730>,\n",
       " (3, (0, 1, 1, 1)): <src.reg_classifier.ClassRegressor at 0x1f1d6424ca0>,\n",
       " (4, (0, 1, 1, 1, 0)): <src.reg_classifier.ClassRegressor at 0x1f1d6424bb0>,\n",
       " (4, (0, 1, 1, 1, 1)): <src.reg_classifier.ClassRegressor at 0x1f1d6429a60>}"
      ]
     },
     "execution_count": 45,
     "metadata": {},
     "output_type": "execute_result"
    }
   ],
   "source": [
    "class_reg.models"
   ]
  },
  {
   "cell_type": "code",
   "execution_count": 46,
   "id": "13b983e4",
   "metadata": {},
   "outputs": [],
   "source": [
    "pred_train = class_reg.predict(X_train_scaled)\n",
    "pred_test = class_reg.predict(X_test_scaled)"
   ]
  },
  {
   "cell_type": "code",
   "execution_count": 47,
   "id": "5650eb4c",
   "metadata": {},
   "outputs": [
    {
     "data": {
      "text/html": [
       "<div>\n",
       "<style scoped>\n",
       "    .dataframe tbody tr th:only-of-type {\n",
       "        vertical-align: middle;\n",
       "    }\n",
       "\n",
       "    .dataframe tbody tr th {\n",
       "        vertical-align: top;\n",
       "    }\n",
       "\n",
       "    .dataframe thead th {\n",
       "        text-align: right;\n",
       "    }\n",
       "</style>\n",
       "<table border=\"1\" class=\"dataframe\">\n",
       "  <thead>\n",
       "    <tr style=\"text-align: right;\">\n",
       "      <th></th>\n",
       "      <th>error_type</th>\n",
       "      <th>class_reg_train</th>\n",
       "      <th>class_reg_test</th>\n",
       "    </tr>\n",
       "  </thead>\n",
       "  <tbody>\n",
       "    <tr>\n",
       "      <th>0</th>\n",
       "      <td>MAE</td>\n",
       "      <td>47.426211</td>\n",
       "      <td>47.558614</td>\n",
       "    </tr>\n",
       "    <tr>\n",
       "      <th>1</th>\n",
       "      <td>RMSE</td>\n",
       "      <td>85.710682</td>\n",
       "      <td>84.366698</td>\n",
       "    </tr>\n",
       "    <tr>\n",
       "      <th>2</th>\n",
       "      <td>R2</td>\n",
       "      <td>0.320897</td>\n",
       "      <td>0.332182</td>\n",
       "    </tr>\n",
       "    <tr>\n",
       "      <th>3</th>\n",
       "      <td>MAPE</td>\n",
       "      <td>30.980740</td>\n",
       "      <td>31.292933</td>\n",
       "    </tr>\n",
       "  </tbody>\n",
       "</table>\n",
       "</div>"
      ],
      "text/plain": [
       "  error_type  class_reg_train  class_reg_test\n",
       "0        MAE        47.426211       47.558614\n",
       "1       RMSE        85.710682       84.366698\n",
       "2         R2         0.320897        0.332182\n",
       "3       MAPE        30.980740       31.292933"
      ]
     },
     "execution_count": 47,
     "metadata": {},
     "output_type": "execute_result"
    }
   ],
   "source": [
    "measured_metrics = pd.DataFrame({\"error_type\":[\"MAE\", \"RMSE\", \"R2\", \"MAPE\"]})\n",
    "measured_metrics.set_index(\"error_type\")\n",
    "\n",
    "measured_metrics[\"class_reg_train\"] = dataframe_metrics(y_train, pred_train)\n",
    "measured_metrics[\"class_reg_test\"] = dataframe_metrics(y_test, pred_test)\n",
    "measured_metrics"
   ]
  },
  {
   "cell_type": "code",
   "execution_count": null,
   "id": "24a32b48",
   "metadata": {},
   "outputs": [],
   "source": []
  },
  {
   "cell_type": "code",
   "execution_count": 57,
   "id": "061e92d7",
   "metadata": {},
   "outputs": [
    {
     "name": "stdout",
     "output_type": "stream",
     "text": [
      "Simple ClassRegressor ensemble\n",
      "train mae 47.42621064125655\n",
      "test mae 47.55861392275194\n"
     ]
    }
   ],
   "source": [
    "class_reg = ClassRegressorEnsemble(n_bins=2, n_levels=5, \n",
    "                                               bins_calc_method='equal', leaf_size=1, \n",
    "                                               leaf_model=None)\n",
    "class_reg.fit(X_train_scaled, y_train)\n",
    "\n",
    "pred_train = class_reg.predict(X_train_scaled)\n",
    "pred_test = class_reg.predict(X_test_scaled)\n",
    "\n",
    "print('Simple ClassRegressor ensemble')\n",
    "print('train mae', mean_absolute_error(y_train, pred_train))\n",
    "print('test mae', mean_absolute_error(y_test, pred_test))"
   ]
  },
  {
   "cell_type": "code",
   "execution_count": null,
   "id": "926d41d5",
   "metadata": {},
   "outputs": [],
   "source": []
  },
  {
   "cell_type": "code",
   "execution_count": 89,
   "id": "46998198",
   "metadata": {},
   "outputs": [
    {
     "data": {
      "text/html": [
       "<div>\n",
       "<style scoped>\n",
       "    .dataframe tbody tr th:only-of-type {\n",
       "        vertical-align: middle;\n",
       "    }\n",
       "\n",
       "    .dataframe tbody tr th {\n",
       "        vertical-align: top;\n",
       "    }\n",
       "\n",
       "    .dataframe thead th {\n",
       "        text-align: right;\n",
       "    }\n",
       "</style>\n",
       "<table border=\"1\" class=\"dataframe\">\n",
       "  <thead>\n",
       "    <tr style=\"text-align: right;\">\n",
       "      <th></th>\n",
       "      <th>error_type</th>\n",
       "      <th>class_reg_train</th>\n",
       "      <th>class_reg_test</th>\n",
       "      <th>baseline_lgbm_Test</th>\n",
       "    </tr>\n",
       "  </thead>\n",
       "  <tbody>\n",
       "    <tr>\n",
       "      <th>0</th>\n",
       "      <td>MAE</td>\n",
       "      <td>47.426211</td>\n",
       "      <td>47.558614</td>\n",
       "      <td>44.184880</td>\n",
       "    </tr>\n",
       "    <tr>\n",
       "      <th>1</th>\n",
       "      <td>RMSE</td>\n",
       "      <td>85.710682</td>\n",
       "      <td>84.366698</td>\n",
       "      <td>71.781541</td>\n",
       "    </tr>\n",
       "    <tr>\n",
       "      <th>2</th>\n",
       "      <td>R2</td>\n",
       "      <td>0.320897</td>\n",
       "      <td>0.332182</td>\n",
       "      <td>0.516561</td>\n",
       "    </tr>\n",
       "    <tr>\n",
       "      <th>3</th>\n",
       "      <td>MAPE</td>\n",
       "      <td>30.980740</td>\n",
       "      <td>31.292933</td>\n",
       "      <td>35.340550</td>\n",
       "    </tr>\n",
       "  </tbody>\n",
       "</table>\n",
       "</div>"
      ],
      "text/plain": [
       "  error_type  class_reg_train  class_reg_test  baseline_lgbm_Test\n",
       "0        MAE        47.426211       47.558614           44.184880\n",
       "1       RMSE        85.710682       84.366698           71.781541\n",
       "2         R2         0.320897        0.332182            0.516561\n",
       "3       MAPE        30.980740       31.292933           35.340550"
      ]
     },
     "execution_count": 89,
     "metadata": {},
     "output_type": "execute_result"
    }
   ],
   "source": [
    "lgbm_reg = LGBMRegressor()\n",
    "\n",
    "lgbm_reg.fit(X_train_scaled, y_train)\n",
    "\n",
    "measured_metrics[\"baseline_lgbm_Test\"] = dataframe_metrics(y_test, lgbm_reg.predict(X_test_scaled))\n",
    "measured_metrics"
   ]
  },
  {
   "cell_type": "code",
   "execution_count": 193,
   "id": "228ef874",
   "metadata": {},
   "outputs": [
    {
     "data": {
      "text/html": [
       "<div>\n",
       "<style scoped>\n",
       "    .dataframe tbody tr th:only-of-type {\n",
       "        vertical-align: middle;\n",
       "    }\n",
       "\n",
       "    .dataframe tbody tr th {\n",
       "        vertical-align: top;\n",
       "    }\n",
       "\n",
       "    .dataframe thead th {\n",
       "        text-align: right;\n",
       "    }\n",
       "</style>\n",
       "<table border=\"1\" class=\"dataframe\">\n",
       "  <thead>\n",
       "    <tr style=\"text-align: right;\">\n",
       "      <th></th>\n",
       "      <th>error_type</th>\n",
       "      <th>class_reg_train</th>\n",
       "      <th>class_reg_test</th>\n",
       "      <th>class_reg_log_train</th>\n",
       "      <th>class_reg_log_test</th>\n",
       "      <th>baseline_lgbm_Test</th>\n",
       "      <th>lin_reg_Test</th>\n",
       "    </tr>\n",
       "  </thead>\n",
       "  <tbody>\n",
       "    <tr>\n",
       "      <th>0</th>\n",
       "      <td>MAE</td>\n",
       "      <td>47.426211</td>\n",
       "      <td>47.558614</td>\n",
       "      <td>46.800394</td>\n",
       "      <td>46.903862</td>\n",
       "      <td>44.184880</td>\n",
       "      <td>49.708612</td>\n",
       "    </tr>\n",
       "    <tr>\n",
       "      <th>1</th>\n",
       "      <td>RMSE</td>\n",
       "      <td>85.710682</td>\n",
       "      <td>84.366698</td>\n",
       "      <td>83.783776</td>\n",
       "      <td>82.804978</td>\n",
       "      <td>71.781541</td>\n",
       "      <td>78.557245</td>\n",
       "    </tr>\n",
       "    <tr>\n",
       "      <th>2</th>\n",
       "      <td>R2</td>\n",
       "      <td>0.320897</td>\n",
       "      <td>0.332182</td>\n",
       "      <td>0.351088</td>\n",
       "      <td>0.356678</td>\n",
       "      <td>0.516561</td>\n",
       "      <td>0.420987</td>\n",
       "    </tr>\n",
       "    <tr>\n",
       "      <th>3</th>\n",
       "      <td>MAPE</td>\n",
       "      <td>30.980740</td>\n",
       "      <td>31.292933</td>\n",
       "      <td>32.004485</td>\n",
       "      <td>32.178234</td>\n",
       "      <td>35.340550</td>\n",
       "      <td>40.722833</td>\n",
       "    </tr>\n",
       "  </tbody>\n",
       "</table>\n",
       "</div>"
      ],
      "text/plain": [
       "  error_type  class_reg_train  class_reg_test  class_reg_log_train  \\\n",
       "0        MAE        47.426211       47.558614            46.800394   \n",
       "1       RMSE        85.710682       84.366698            83.783776   \n",
       "2         R2         0.320897        0.332182             0.351088   \n",
       "3       MAPE        30.980740       31.292933            32.004485   \n",
       "\n",
       "   class_reg_log_test  baseline_lgbm_Test  lin_reg_Test  \n",
       "0           46.903862           44.184880     49.708612  \n",
       "1           82.804978           71.781541     78.557245  \n",
       "2            0.356678            0.516561      0.420987  \n",
       "3           32.178234           35.340550     40.722833  "
      ]
     },
     "execution_count": 193,
     "metadata": {},
     "output_type": "execute_result"
    }
   ],
   "source": [
    "lin_reg = LinearRegression()\n",
    "\n",
    "lin_reg.fit(X_train_scaled, y_train)\n",
    "\n",
    "measured_metrics[\"lin_reg_Test\"] = dataframe_metrics(y_test, lin_reg.predict(X_test_scaled))\n",
    "measured_metrics"
   ]
  },
  {
   "cell_type": "code",
   "execution_count": null,
   "id": "f458753d",
   "metadata": {},
   "outputs": [],
   "source": []
  },
  {
   "cell_type": "code",
   "execution_count": null,
   "id": "dd373b91",
   "metadata": {},
   "outputs": [],
   "source": []
  }
 ],
 "metadata": {
  "kernelspec": {
   "display_name": "Python 3 (ipykernel)",
   "language": "python",
   "name": "python3"
  },
  "language_info": {
   "codemirror_mode": {
    "name": "ipython",
    "version": 3
   },
   "file_extension": ".py",
   "mimetype": "text/x-python",
   "name": "python",
   "nbconvert_exporter": "python",
   "pygments_lexer": "ipython3",
   "version": "3.8.11"
  }
 },
 "nbformat": 4,
 "nbformat_minor": 5
}
