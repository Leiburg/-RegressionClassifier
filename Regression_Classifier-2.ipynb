{
 "cells": [
  {
   "cell_type": "code",
   "execution_count": 1,
   "id": "82f4aa7e",
   "metadata": {},
   "outputs": [],
   "source": [
    "import numpy as np\n",
    "import pandas as pd\n",
    "\n",
    "from sklearn.model_selection import train_test_split\n",
    "\n",
    "from sklearn.preprocessing import StandardScaler\n",
    "\n",
    "from sklearn import metrics\n",
    "\n",
    "from lightgbm import LGBMRegressor\n",
    "from xgboost.sklearn import XGBRegressor\n",
    "from sklearn.ensemble import GradientBoostingRegressor\n",
    "\n",
    "from sklearn.linear_model import LogisticRegression\n",
    "\n",
    "from sklearn.model_selection import cross_val_score\n",
    "from sklearn.model_selection import cross_validate\n",
    "from sklearn.model_selection import GridSearchCV\n",
    "\n",
    "import warnings\n",
    "warnings.filterwarnings(\"ignore\")"
   ]
  },
  {
   "cell_type": "code",
   "execution_count": 2,
   "id": "5fa25acb",
   "metadata": {},
   "outputs": [],
   "source": [
    "from sklearn.base import BaseEstimator, ClassifierMixin\n",
    "from lightgbm import LGBMClassifier\n",
    "from xgboost.sklearn import XGBClassifier\n",
    "from sklearn.ensemble import GradientBoostingClassifier\n",
    "from catboost import CatBoostClassifier\n",
    "\n",
    "class RegClass(BaseEstimator, ClassifierMixin):\n",
    "    \"\"\"Решение задачи регрессии, используя модели классификации\"\"\"\n",
    "    \n",
    "    #def __init__(self, model=LGBMClassifier, N=5, bins_numb=100):\n",
    "    def __init__(self, N=5, bins_numb=100):\n",
    "        \"\"\"\n",
    "        Инициализация\n",
    "        model - модель классификатора\n",
    "        N - количество бинов, на которые делятся данные на каждом уровне\n",
    "        bins_nums - итоговое число бинов\n",
    "        \"\"\"\n",
    "        #self.model = model\n",
    "        self.N = N\n",
    "        self.bins_numb = bins_numb\n",
    "\n",
    "        # Массив для хранения индексов новых классов\n",
    "        self.class_array = {}\n",
    "        # Массив для пересчёта нового таргета в старый\n",
    "        self.target_class_arr = {}\n",
    "        # Массив для обученных классификаторов\n",
    "        self.model_clf_arr = {}\n",
    "        \n",
    "        self.bins_total_borders = 0\n",
    "        \n",
    "        \n",
    "    def borders_no_empty_bins(ser_target, hist):\n",
    "        \"\"\"Функция определения количества непустых бинов, \n",
    "        в которые попадают значения переданного сегмента \n",
    "        таргет-переменной ser_target\"\"\"\n",
    "        \n",
    "        bins_borders_pairs_list = []\n",
    "        prev_border = None\n",
    "        for b in hist:\n",
    "            if prev_border:\n",
    "                # Проверка - попадает ли хоть одно значение таргета в рассматриваемый бин\n",
    "                if b != hist[-1]:\n",
    "                    # Если текущий бин не последний, то его правая граница исключается\n",
    "                    if len(ser_target[(ser_target >= prev_border) & (ser_target < b)]) > 0:\n",
    "                        bins_borders_pairs_list.append([prev_border, b])\n",
    "                else:\n",
    "                    # Если текущий бин последний, то его правая граница включается\n",
    "                    if len(ser_target[(ser_target >= prev_border) & (ser_target <= b)]) > 0:\n",
    "                        bins_borders_pairs_list.append([prev_border, b])\n",
    "            prev_border = b\n",
    "        return bins_borders_pairs_list\n",
    "\n",
    "\n",
    "    def split_n_bins(self, ser_target, n):\n",
    "        \"\"\"Функция деления датафрейма на n примерно равных частей \n",
    "        (границы разбивки сдвигаются к ближайшим границам бинов)\"\"\"\n",
    "        \n",
    "        #digits = ser_target.astype('int8').unique()\n",
    "        #digits_numb = len(digits)\n",
    "\n",
    "        # Вычисляем границы непустых бинов в ser_target\n",
    "        bins_cur_borders = RegClass.borders_no_empty_bins(ser_target, self.bins_total_borders)\n",
    "\n",
    "        # Количество непустых бинов\n",
    "        bins_numb = len(bins_cur_borders)\n",
    "\n",
    "        # Если количество непустых бинов меньше, чем n, уменьшаем значение n до количества непустых бинов\n",
    "        if bins_numb < n:\n",
    "            n = int(bins_numb)\n",
    "\n",
    "        # Возвращаемый массив индексов для каждого бина, на которые разбивается ser_target\n",
    "        ind_arr = {}\n",
    "\n",
    "        start_ind = ser_target.index.min()\n",
    "        last_ind = start_ind\n",
    "\n",
    "        for i in range(n):\n",
    "            # Вычисление последнего индекса текущего бина (на основе общего количества записей в ser_target)\n",
    "            cur_end_1 = start_ind + len(ser_target) // n * (i + 1) - 1\n",
    "            # Вычисление последнего индекса текущего бина (на основе количества оставщихся непустых бинов)\n",
    "            if i < (n - 1):\n",
    "                # Если текущий бин не последний, его правая граница не включается\n",
    "                cur_end_2 = ser_target[ser_target < bins_cur_borders[-(n - i)][1]].index.max()\n",
    "            else:\n",
    "                # Если текущий бин последний, его правая граница включается\n",
    "                cur_end_2 = ser_target[ser_target <= bins_cur_borders[-(n - i)][1]].index.max()\n",
    "\n",
    "            # Выбор наименьшего индекса из двух\n",
    "            cur_end = min(cur_end_1, cur_end_2)\n",
    "\n",
    "            # Если последний индекс оказался меньше начального, сдвигаем последний до начального (вправо)\n",
    "            if cur_end < last_ind:\n",
    "                cur_end = last_ind\n",
    "\n",
    "            # Определяем правую границу текущего бина\n",
    "            for b in bins_cur_borders:\n",
    "                if b[1] > ser_target[cur_end]:\n",
    "                    cur_target_end_bin = b[1]\n",
    "                    break\n",
    "\n",
    "            # Если текущий бин не является последним, то сдвигаем его последний индекс вправо до границы, вычисленной выше\n",
    "            if i < (n - 1):\n",
    "                cur_end = ser_target[ser_target < cur_target_end_bin].index.max()\n",
    "            # Если текущий бин - последний - сдвигаем его последний индекс до последнего индекса ser_target\n",
    "            else:\n",
    "                cur_end = ser_target.index.max()\n",
    "\n",
    "            # Запись полученного списка индексов в возвращаемый массив\n",
    "            ind_arr[i] = ser_target.loc[last_ind:(cur_end)].index\n",
    "\n",
    "            last_ind = cur_end + 1\n",
    "        return ind_arr\n",
    "    \n",
    "    \n",
    "    def save_class(self, ind_arr_new, class_array):\n",
    "        \"\"\"Функция вычисления новых лейблов для последующей работы классификаторов\n",
    "        ind_arr_new - массив с диапазонами индексов, разделённых на бины (функция split_n_bins)\n",
    "        class_array - внешний массив, хранящий вычисленные новые лейблы таргета для всех индексов датасета\n",
    "        class_array_cur - возвращаемый массив с новыми лейблами только для текущей части датасета\n",
    "        \"\"\"\n",
    "        class_array_cur = {}\n",
    "        for i in ind_arr_new:\n",
    "            for j in ind_arr_new[i]:\n",
    "                if j in class_array:\n",
    "                    class_array[j] = class_array[j] + '-' + str(i)\n",
    "                else:\n",
    "                    class_array[j] = '0-' + str(i)\n",
    "                class_array_cur[j] = class_array[j]\n",
    "        return class_array_cur\n",
    "\n",
    "\n",
    "    def split_recursion(self, X, y, n, cl):\n",
    "        \"\"\"Рекурсивная функция для деления текущего сегменда датафрейма на n бинов и обучения классификаторов\n",
    "        n = self.N\n",
    "        cl - лейбл текущего бина, для которого запускается функция split_recursion для дальнейшего деления\n",
    "        \"\"\"\n",
    "        \n",
    "        # Получение массива индексов для каждого бина после деления\n",
    "        i_arr = self.split_n_bins(y, n)\n",
    "\n",
    "        # Вычисление новых лейблов для текущего сегмента данных\n",
    "        class_array_cur = self.save_class(i_arr, self.class_array)\n",
    "\n",
    "        # Перебор текущих бинов, определение нового класса текущего бина, запуск текущей функции для дальнейшего деления на бины\n",
    "        for i in range(len(i_arr)):\n",
    "            # Сохраняем текущий лейбл бина\n",
    "            class_cur = cl\n",
    "\n",
    "            # Проверка правильности вычисленного нового лейбла\n",
    "            class_new = class_cur + '-' + str(i)\n",
    "            class_new_2 = class_array_cur[i_arr[i][0]]\n",
    "            if class_new != class_new_2:\n",
    "                print(f\"Error, class_new = {class_new}, class_new_2 = {class_new_2}\")\n",
    "\n",
    "            # Выделение текущего бина в новый Series\n",
    "            y_cur = y[i_arr[i]]\n",
    "\n",
    "            # Если в новом сегменте таргета более одного итогового бина, запускаем текущую функцию снова для дальнейшего деления\n",
    "            bins_cur_borders = RegClass.borders_no_empty_bins(y_cur, self.bins_total_borders)\n",
    "            if len(bins_cur_borders) > 1:\n",
    "                self.split_recursion(X.loc[y_cur.index, :], y_cur, n, class_new)\n",
    "\n",
    "            # Иначе дополнение массива для пересчёта нового таргета в старый\n",
    "            else:\n",
    "                self.target_class_arr[class_new] = (bins_cur_borders[0][0] + bins_cur_borders[0][1]) / 2\n",
    "\n",
    "        # Создание и обучение классификатора на текущем сегменте данных с новым лэйблом\n",
    "        #self.model_clf_arr[class_cur] = self.model()\n",
    "        \n",
    "        #self.model_clf_arr[class_cur] = LGBMClassifier()\n",
    "        self.model_clf_arr[class_cur] = XGBClassifier(verbosity = 0)\n",
    "        #self.model_clf_arr[class_cur] = GradientBoostingClassifier()\n",
    "        #self.model_clf_arr[class_cur] = CatBoostClassifier()\n",
    "        #self.model_clf_arr[class_cur] = LogisticRegression()\n",
    "        \n",
    "        self.model_clf_arr[class_cur].fit(X, pd.Series(class_array_cur))\n",
    "    \n",
    "\n",
    "    def predict_row(self, df_row, cl):\n",
    "        \"\"\"Предсказание таргета (старого) для текущего ряда\"\"\"\n",
    "        \n",
    "        if cl in self.model_clf_arr:\n",
    "            pred = self.model_clf_arr[cl].predict(df_row.reshape(1, -1))[0]\n",
    "            class_result = self.predict_row(df_row, pred)\n",
    "        else:\n",
    "            return self.target_class_arr[cl]\n",
    "\n",
    "        return class_result\n",
    "\n",
    "\n",
    "    def itertuples_func(self, df):\n",
    "        \"\"\"Предсказание таргета (старого) для всего датасета\"\"\"\n",
    "        \n",
    "        return np.array([self.predict_row(np.array(row), '0') for row in df.itertuples(index=False)])\n",
    "        \n",
    "\n",
    "    def fit(self, X, y, random_state=None):\n",
    "        \"\"\"Обучение модели\"\"\"\n",
    "        \n",
    "        X = X.reset_index(drop=True)\n",
    "        y = y.reset_index(drop=True)\n",
    "        \n",
    "        y_train_sorted = y.sort_values()\n",
    "        X_train_scaled_sorted = X.iloc[y_train_sorted.index, :].reset_index(drop=True)\n",
    "        y_train_sorted = y_train_sorted.reset_index(drop=True)\n",
    "        \n",
    "        # Расчёт границ итогового набора бинов\n",
    "        self.bins_total_borders = np.histogram(y_train_sorted, bins=self.bins_numb)[1]\n",
    "\n",
    "        # Запуск основной функции, которая заполняет созданные выше массивы\n",
    "        self.split_recursion(X_train_scaled_sorted, y_train_sorted, self.N, '0')\n",
    "        \n",
    "        return self\n",
    "    \n",
    "\n",
    "    def predict(self, X):\n",
    "        \"\"\"Предиктор\"\"\"\n",
    "\n",
    "        p = self.itertuples_func(X)\n",
    "        \n",
    "        return p"
   ]
  },
  {
   "cell_type": "code",
   "execution_count": null,
   "id": "ba9f192f",
   "metadata": {},
   "outputs": [],
   "source": []
  },
  {
   "cell_type": "code",
   "execution_count": 3,
   "id": "3a048aae",
   "metadata": {},
   "outputs": [],
   "source": [
    "# Функция вычисления метрики MAPE\n",
    "def mean_absolute_percentage_error(y_true, y_pred): \n",
    "    y_true, y_pred = np.array(y_true), np.array(y_pred)\n",
    "    return np.mean(np.abs((y_true - y_pred) / y_true)) * 100\n",
    "\n",
    "# Функция для вычисления всех метрик\n",
    "def dataframe_metrics(y_test,y_pred):\n",
    "    stats = [\n",
    "       metrics.mean_absolute_error(y_test, y_pred),\n",
    "       np.sqrt(metrics.mean_squared_error(y_test, y_pred)),\n",
    "       metrics.r2_score(y_test, y_pred),\n",
    "       mean_absolute_percentage_error(y_test, y_pred)\n",
    "    ]\n",
    "    return stats"
   ]
  },
  {
   "cell_type": "code",
   "execution_count": null,
   "id": "0cfa48e7",
   "metadata": {},
   "outputs": [],
   "source": []
  },
  {
   "cell_type": "code",
   "execution_count": 4,
   "id": "9fc2cb97",
   "metadata": {},
   "outputs": [],
   "source": [
    "df = pd.read_csv('./data/AB_NYC_2019_EDA.csv').drop(['Unnamed: 0'], axis=1)\n",
    "\n",
    "target_name = 'price'"
   ]
  },
  {
   "cell_type": "code",
   "execution_count": 5,
   "id": "23850da0",
   "metadata": {},
   "outputs": [
    {
     "data": {
      "text/plain": [
       "<AxesSubplot:>"
      ]
     },
     "execution_count": 5,
     "metadata": {},
     "output_type": "execute_result"
    },
    {
     "data": {
      "image/png": "[encoded data removed]",
      "text/plain": [
       "<Figure size 432x288 with 1 Axes>"
      ]
     },
     "metadata": {
      "needs_background": "light"
     },
     "output_type": "display_data"
    }
   ],
   "source": [
    "df.price.hist()"
   ]
  },
  {
   "cell_type": "code",
   "execution_count": 6,
   "id": "8d999650",
   "metadata": {},
   "outputs": [
    {
     "data": {
      "text/plain": [
       "<AxesSubplot:>"
      ]
     },
     "execution_count": 6,
     "metadata": {},
     "output_type": "execute_result"
    },
    {
     "data": {
      "image/png": "[encoded data removed]",
      "text/plain": [
       "<Figure size 432x288 with 1 Axes>"
      ]
     },
     "metadata": {
      "needs_background": "light"
     },
     "output_type": "display_data"
    }
   ],
   "source": [
    "np.log(df.price).hist()"
   ]
  },
  {
   "cell_type": "code",
   "execution_count": 8,
   "id": "ccf3e136",
   "metadata": {},
   "outputs": [],
   "source": [
    "df2 = df.copy()\n",
    "\n",
    "df2[target_name] = np.log(df[target_name])\n",
    "#df2 = df\n",
    "\n",
    "X_train, X_test, y_train, y_test = train_test_split(df2.drop([target_name], axis=1), df2[target_name], test_size=0.3)\n",
    "\n",
    "scaler = StandardScaler()\n",
    "X_train_scaled = pd.DataFrame(scaler.fit_transform(X_train), columns=X_train.columns)\n",
    "X_test_scaled = pd.DataFrame(scaler.transform(X_test), columns=X_test.columns)"
   ]
  },
  {
   "cell_type": "code",
   "execution_count": 9,
   "id": "a6d28df2",
   "metadata": {},
   "outputs": [
    {
     "data": {
      "text/plain": [
       "{'N': 3, 'bins_numb': 10}"
      ]
     },
     "execution_count": 9,
     "metadata": {},
     "output_type": "execute_result"
    }
   ],
   "source": [
    "rc_test = RegClass()\n",
    "\n",
    "param_grid = {'N': [3, 7, 10, 20, 30], 'bins_numb': [5, 10, 30, 50]}\n",
    "\n",
    "rc_gscv = GridSearchCV(rc_test, param_grid, cv=5, n_jobs=-1, scoring='r2')\n",
    "\n",
    "rc_gscv.fit(X_train_scaled, y_train)\n",
    "\n",
    "rc_gscv.best_params_"
   ]
  },
  {
   "cell_type": "code",
   "execution_count": 10,
   "id": "4010ced5",
   "metadata": {},
   "outputs": [
    {
     "data": {
      "text/html": [
       "<div>\n",
       "<style scoped>\n",
       "    .dataframe tbody tr th:only-of-type {\n",
       "        vertical-align: middle;\n",
       "    }\n",
       "\n",
       "    .dataframe tbody tr th {\n",
       "        vertical-align: top;\n",
       "    }\n",
       "\n",
       "    .dataframe thead th {\n",
       "        text-align: right;\n",
       "    }\n",
       "</style>\n",
       "<table border=\"1\" class=\"dataframe\">\n",
       "  <thead>\n",
       "    <tr style=\"text-align: right;\">\n",
       "      <th></th>\n",
       "      <th>error_type</th>\n",
       "      <th>rc_test</th>\n",
       "    </tr>\n",
       "  </thead>\n",
       "  <tbody>\n",
       "    <tr>\n",
       "      <th>0</th>\n",
       "      <td>MAE</td>\n",
       "      <td>0.325272</td>\n",
       "    </tr>\n",
       "    <tr>\n",
       "      <th>1</th>\n",
       "      <td>RMSE</td>\n",
       "      <td>0.434011</td>\n",
       "    </tr>\n",
       "    <tr>\n",
       "      <th>2</th>\n",
       "      <td>R2</td>\n",
       "      <td>0.560076</td>\n",
       "    </tr>\n",
       "    <tr>\n",
       "      <th>3</th>\n",
       "      <td>MAPE</td>\n",
       "      <td>6.912017</td>\n",
       "    </tr>\n",
       "  </tbody>\n",
       "</table>\n",
       "</div>"
      ],
      "text/plain": [
       "  error_type   rc_test\n",
       "0        MAE  0.325272\n",
       "1       RMSE  0.434011\n",
       "2         R2  0.560076\n",
       "3       MAPE  6.912017"
      ]
     },
     "execution_count": 10,
     "metadata": {},
     "output_type": "execute_result"
    }
   ],
   "source": [
    "rc_test = RegClass(N=3, bins_numb=10)\n",
    "\n",
    "rc_test.fit(X_train_scaled, y_train)\n",
    "#rc_test.fit(X_train_scaled, np.log(y_train))\n",
    "\n",
    "measured_metrics = pd.DataFrame({\"error_type\":[\"MAE\", \"RMSE\", \"R2\", \"MAPE\"]})\n",
    "measured_metrics.set_index(\"error_type\")\n",
    "\n",
    "measured_metrics[\"rc_test\"] = dataframe_metrics(y_test, rc_test.predict(X_test_scaled))\n",
    "#measured_metrics[\"rc_test\"] = dataframe_metrics(y_test, np.exp(rc_test.predict(X_test_scaled)))\n",
    "measured_metrics"
   ]
  },
  {
   "cell_type": "code",
   "execution_count": 11,
   "id": "2a18566d",
   "metadata": {},
   "outputs": [
    {
     "data": {
      "text/html": [
       "<div>\n",
       "<style scoped>\n",
       "    .dataframe tbody tr th:only-of-type {\n",
       "        vertical-align: middle;\n",
       "    }\n",
       "\n",
       "    .dataframe tbody tr th {\n",
       "        vertical-align: top;\n",
       "    }\n",
       "\n",
       "    .dataframe thead th {\n",
       "        text-align: right;\n",
       "    }\n",
       "</style>\n",
       "<table border=\"1\" class=\"dataframe\">\n",
       "  <thead>\n",
       "    <tr style=\"text-align: right;\">\n",
       "      <th></th>\n",
       "      <th>error_type</th>\n",
       "      <th>rc_test</th>\n",
       "      <th>xgb_reg</th>\n",
       "    </tr>\n",
       "  </thead>\n",
       "  <tbody>\n",
       "    <tr>\n",
       "      <th>0</th>\n",
       "      <td>MAE</td>\n",
       "      <td>0.325272</td>\n",
       "      <td>0.297605</td>\n",
       "    </tr>\n",
       "    <tr>\n",
       "      <th>1</th>\n",
       "      <td>RMSE</td>\n",
       "      <td>0.434011</td>\n",
       "      <td>0.397543</td>\n",
       "    </tr>\n",
       "    <tr>\n",
       "      <th>2</th>\n",
       "      <td>R2</td>\n",
       "      <td>0.560076</td>\n",
       "      <td>0.630901</td>\n",
       "    </tr>\n",
       "    <tr>\n",
       "      <th>3</th>\n",
       "      <td>MAPE</td>\n",
       "      <td>6.912017</td>\n",
       "      <td>6.352953</td>\n",
       "    </tr>\n",
       "  </tbody>\n",
       "</table>\n",
       "</div>"
      ],
      "text/plain": [
       "  error_type   rc_test   xgb_reg\n",
       "0        MAE  0.325272  0.297605\n",
       "1       RMSE  0.434011  0.397543\n",
       "2         R2  0.560076  0.630901\n",
       "3       MAPE  6.912017  6.352953"
      ]
     },
     "execution_count": 11,
     "metadata": {},
     "output_type": "execute_result"
    }
   ],
   "source": [
    "xgb_reg = XGBRegressor(verbosity = 0)\n",
    "\n",
    "xgb_reg.fit(X_train_scaled, y_train)\n",
    "\n",
    "measured_metrics[\"xgb_reg\"] = dataframe_metrics(y_test, xgb_reg.predict(X_test_scaled))\n",
    "measured_metrics"
   ]
  },
  {
   "cell_type": "markdown",
   "id": "e8ab73ca",
   "metadata": {},
   "source": [
    "Проверка стабильности модели"
   ]
  },
  {
   "cell_type": "code",
   "execution_count": 12,
   "id": "16486cd0",
   "metadata": {},
   "outputs": [
    {
     "name": "stdout",
     "output_type": "stream",
     "text": [
      "[-0.11661205 -0.11658136 -0.11723696 -0.11888126 -0.1180547 ]\n",
      "[0.72761585 0.72637    0.725883   0.72205884 0.72295908]\n",
      "[-0.18642034 -0.18586152 -0.1924652  -0.18605377 -0.18825743]\n",
      "[0.55954751 0.56922653 0.54709065 0.56202164 0.56341309]\n"
     ]
    }
   ],
   "source": [
    "scores = cross_validate(rc_test, X_train_scaled, y_train, cv=5, scoring=('r2', 'neg_mean_squared_error'), return_train_score=True, n_jobs=-1)\n",
    "print(scores['train_neg_mean_squared_error'])\n",
    "print(scores['train_r2'])\n",
    "print(scores['test_neg_mean_squared_error'])\n",
    "print(scores['test_r2'])"
   ]
  },
  {
   "cell_type": "code",
   "execution_count": 13,
   "id": "6648942c",
   "metadata": {},
   "outputs": [
    {
     "name": "stdout",
     "output_type": "stream",
     "text": [
      "[-0.10905305 -0.10710484 -0.10743513 -0.11017578 -0.10577764]\n",
      "[0.74527229 0.7486125  0.7488011  0.74241202 0.75176986]\n",
      "[-0.15428652 -0.15369848 -0.15639393 -0.15331693 -0.16074472]\n",
      "[0.63546959 0.64377118 0.63197361 0.63908554 0.62721769]\n"
     ]
    }
   ],
   "source": [
    "scores_reg = cross_validate(xgb_reg, X_train_scaled, y_train, cv=5, scoring=('r2', 'neg_mean_squared_error'), return_train_score=True, n_jobs=-1)\n",
    "print(scores_reg['train_neg_mean_squared_error'])\n",
    "print(scores_reg['train_r2'])\n",
    "print(scores_reg['test_neg_mean_squared_error'])\n",
    "print(scores_reg['test_r2'])"
   ]
  },
  {
   "cell_type": "code",
   "execution_count": null,
   "id": "7d377ee5",
   "metadata": {},
   "outputs": [],
   "source": []
  }
 ],
 "metadata": {
  "kernelspec": {
   "display_name": "Python 3",
   "language": "python",
   "name": "python3"
  },
  "language_info": {
   "codemirror_mode": {
    "name": "ipython",
    "version": 3
   },
   "file_extension": ".py",
   "mimetype": "text/x-python",
   "name": "python",
   "nbconvert_exporter": "python",
   "pygments_lexer": "ipython3",
   "version": "3.8.8"
  }
 },
 "nbformat": 4,
 "nbformat_minor": 5
}
